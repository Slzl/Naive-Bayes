{
  "nbformat": 4,
  "nbformat_minor": 0,
  "metadata": {
    "colab": {
      "provenance": [],
      "authorship_tag": "ABX9TyNFtl1RU1stK9tZZpWnFF9P",
      "include_colab_link": true
    },
    "kernelspec": {
      "name": "python3",
      "display_name": "Python 3"
    },
    "language_info": {
      "name": "python"
    }
  },
  "cells": [
    {
      "cell_type": "markdown",
      "metadata": {
        "id": "view-in-github",
        "colab_type": "text"
      },
      "source": [
        "<a href=\"https://colab.research.google.com/github/Slzl/Naive-Bayes/blob/main/Naive%20Bayes%20Trial.ipynb\" target=\"_parent\"><img src=\"https://colab.research.google.com/assets/colab-badge.svg\" alt=\"Open In Colab\"/></a>"
      ]
    },
    {
      "cell_type": "code",
      "execution_count": null,
      "metadata": {
        "id": "N8VOCbv8Wvz0"
      },
      "outputs": [],
      "source": [
        "import numpy as np \n",
        "import pandas as pd \n",
        "import matplotlib.pyplot as plt\n",
        "import seaborn as sns\n",
        "%matplotlib inline\n",
        "import os\n",
        "for dirname, _, filenames in os.walk('/content/Courses.csv'):\n",
        "    for filename in filenames:\n",
        "        print(os.path.join(dirname, filename))"
      ]
    },
    {
      "cell_type": "code",
      "source": [
        "import warnings\n",
        "warnings.filterwarnings('ignore')"
      ],
      "metadata": {
        "id": "H8UGDsTOYgC4"
      },
      "execution_count": null,
      "outputs": []
    },
    {
      "cell_type": "code",
      "source": [
        "data='/content/Courses.csv'\n",
        "df=pd.read_csv(data, header=None)"
      ],
      "metadata": {
        "id": "FSH-IiP6YkgZ"
      },
      "execution_count": null,
      "outputs": []
    },
    {
      "cell_type": "code",
      "source": [
        "df.shape"
      ],
      "metadata": {
        "colab": {
          "base_uri": "https://localhost:8080/"
        },
        "id": "jGu_NJv3Yy0o",
        "outputId": "8d3bc991-6cb3-4d54-9b53-324accae16d6"
      },
      "execution_count": null,
      "outputs": [
        {
          "output_type": "execute_result",
          "data": {
            "text/plain": [
              "(106, 8)"
            ]
          },
          "metadata": {},
          "execution_count": 276
        }
      ]
    },
    {
      "cell_type": "code",
      "source": [
        "df.head()"
      ],
      "metadata": {
        "colab": {
          "base_uri": "https://localhost:8080/",
          "height": 206
        },
        "id": "SPCOpKCRZQqg",
        "outputId": "48e2ac42-c8f3-4ab7-ec22-3f790eee38dd"
      },
      "execution_count": null,
      "outputs": [
        {
          "output_type": "execute_result",
          "data": {
            "text/plain": [
              "             Course Name  Ratings(out of 5) reviews          skill 1  \\\n",
              "0  What is Data Science?                4.7  56,977     Data Science   \n",
              "1  What is Data Science?                4.5  24,584     Data Science   \n",
              "2  What is Data Science?                4.6  18,023     Data Science   \n",
              "3  What is Data Science?                4.6  27,986     Data Science   \n",
              "4  What is Data Science?                4.7      33  Database (DBMS)   \n",
              "\n",
              "              skill 2                  skill 3            skill 4      skill 5  \n",
              "0       Deep Learning         Machine Learning           Big Data  Data Mining  \n",
              "1              Github       Python Programming  Jupyter notebooks      Rstudio  \n",
              "2         Data Mining              Methodology                NaN          NaN  \n",
              "3  Python Programming            Data Analysis             Pandas        Numpy  \n",
              "4               MySQL  database administration                NaN          NaN  "
            ],
            "text/html": [
              "\n",
              "  <div id=\"df-38314b75-55cd-4161-98bd-214a4c2a3c57\">\n",
              "    <div class=\"colab-df-container\">\n",
              "      <div>\n",
              "<style scoped>\n",
              "    .dataframe tbody tr th:only-of-type {\n",
              "        vertical-align: middle;\n",
              "    }\n",
              "\n",
              "    .dataframe tbody tr th {\n",
              "        vertical-align: top;\n",
              "    }\n",
              "\n",
              "    .dataframe thead th {\n",
              "        text-align: right;\n",
              "    }\n",
              "</style>\n",
              "<table border=\"1\" class=\"dataframe\">\n",
              "  <thead>\n",
              "    <tr style=\"text-align: right;\">\n",
              "      <th></th>\n",
              "      <th>Course Name</th>\n",
              "      <th>Ratings(out of 5)</th>\n",
              "      <th>reviews</th>\n",
              "      <th>skill 1</th>\n",
              "      <th>skill 2</th>\n",
              "      <th>skill 3</th>\n",
              "      <th>skill 4</th>\n",
              "      <th>skill 5</th>\n",
              "    </tr>\n",
              "  </thead>\n",
              "  <tbody>\n",
              "    <tr>\n",
              "      <th>0</th>\n",
              "      <td>What is Data Science?</td>\n",
              "      <td>4.7</td>\n",
              "      <td>56,977</td>\n",
              "      <td>Data Science</td>\n",
              "      <td>Deep Learning</td>\n",
              "      <td>Machine Learning</td>\n",
              "      <td>Big Data</td>\n",
              "      <td>Data Mining</td>\n",
              "    </tr>\n",
              "    <tr>\n",
              "      <th>1</th>\n",
              "      <td>What is Data Science?</td>\n",
              "      <td>4.5</td>\n",
              "      <td>24,584</td>\n",
              "      <td>Data Science</td>\n",
              "      <td>Github</td>\n",
              "      <td>Python Programming</td>\n",
              "      <td>Jupyter notebooks</td>\n",
              "      <td>Rstudio</td>\n",
              "    </tr>\n",
              "    <tr>\n",
              "      <th>2</th>\n",
              "      <td>What is Data Science?</td>\n",
              "      <td>4.6</td>\n",
              "      <td>18,023</td>\n",
              "      <td>Data Science</td>\n",
              "      <td>Data Mining</td>\n",
              "      <td>Methodology</td>\n",
              "      <td>NaN</td>\n",
              "      <td>NaN</td>\n",
              "    </tr>\n",
              "    <tr>\n",
              "      <th>3</th>\n",
              "      <td>What is Data Science?</td>\n",
              "      <td>4.6</td>\n",
              "      <td>27,986</td>\n",
              "      <td>Data Science</td>\n",
              "      <td>Python Programming</td>\n",
              "      <td>Data Analysis</td>\n",
              "      <td>Pandas</td>\n",
              "      <td>Numpy</td>\n",
              "    </tr>\n",
              "    <tr>\n",
              "      <th>4</th>\n",
              "      <td>What is Data Science?</td>\n",
              "      <td>4.7</td>\n",
              "      <td>33</td>\n",
              "      <td>Database (DBMS)</td>\n",
              "      <td>MySQL</td>\n",
              "      <td>database administration</td>\n",
              "      <td>NaN</td>\n",
              "      <td>NaN</td>\n",
              "    </tr>\n",
              "  </tbody>\n",
              "</table>\n",
              "</div>\n",
              "      <button class=\"colab-df-convert\" onclick=\"convertToInteractive('df-38314b75-55cd-4161-98bd-214a4c2a3c57')\"\n",
              "              title=\"Convert this dataframe to an interactive table.\"\n",
              "              style=\"display:none;\">\n",
              "        \n",
              "  <svg xmlns=\"http://www.w3.org/2000/svg\" height=\"24px\"viewBox=\"0 0 24 24\"\n",
              "       width=\"24px\">\n",
              "    <path d=\"M0 0h24v24H0V0z\" fill=\"none\"/>\n",
              "    <path d=\"M18.56 5.44l.94 2.06.94-2.06 2.06-.94-2.06-.94-.94-2.06-.94 2.06-2.06.94zm-11 1L8.5 8.5l.94-2.06 2.06-.94-2.06-.94L8.5 2.5l-.94 2.06-2.06.94zm10 10l.94 2.06.94-2.06 2.06-.94-2.06-.94-.94-2.06-.94 2.06-2.06.94z\"/><path d=\"M17.41 7.96l-1.37-1.37c-.4-.4-.92-.59-1.43-.59-.52 0-1.04.2-1.43.59L10.3 9.45l-7.72 7.72c-.78.78-.78 2.05 0 2.83L4 21.41c.39.39.9.59 1.41.59.51 0 1.02-.2 1.41-.59l7.78-7.78 2.81-2.81c.8-.78.8-2.07 0-2.86zM5.41 20L4 18.59l7.72-7.72 1.47 1.35L5.41 20z\"/>\n",
              "  </svg>\n",
              "      </button>\n",
              "      \n",
              "  <style>\n",
              "    .colab-df-container {\n",
              "      display:flex;\n",
              "      flex-wrap:wrap;\n",
              "      gap: 12px;\n",
              "    }\n",
              "\n",
              "    .colab-df-convert {\n",
              "      background-color: #E8F0FE;\n",
              "      border: none;\n",
              "      border-radius: 50%;\n",
              "      cursor: pointer;\n",
              "      display: none;\n",
              "      fill: #1967D2;\n",
              "      height: 32px;\n",
              "      padding: 0 0 0 0;\n",
              "      width: 32px;\n",
              "    }\n",
              "\n",
              "    .colab-df-convert:hover {\n",
              "      background-color: #E2EBFA;\n",
              "      box-shadow: 0px 1px 2px rgba(60, 64, 67, 0.3), 0px 1px 3px 1px rgba(60, 64, 67, 0.15);\n",
              "      fill: #174EA6;\n",
              "    }\n",
              "\n",
              "    [theme=dark] .colab-df-convert {\n",
              "      background-color: #3B4455;\n",
              "      fill: #D2E3FC;\n",
              "    }\n",
              "\n",
              "    [theme=dark] .colab-df-convert:hover {\n",
              "      background-color: #434B5C;\n",
              "      box-shadow: 0px 1px 3px 1px rgba(0, 0, 0, 0.15);\n",
              "      filter: drop-shadow(0px 1px 2px rgba(0, 0, 0, 0.3));\n",
              "      fill: #FFFFFF;\n",
              "    }\n",
              "  </style>\n",
              "\n",
              "      <script>\n",
              "        const buttonEl =\n",
              "          document.querySelector('#df-38314b75-55cd-4161-98bd-214a4c2a3c57 button.colab-df-convert');\n",
              "        buttonEl.style.display =\n",
              "          google.colab.kernel.accessAllowed ? 'block' : 'none';\n",
              "\n",
              "        async function convertToInteractive(key) {\n",
              "          const element = document.querySelector('#df-38314b75-55cd-4161-98bd-214a4c2a3c57');\n",
              "          const dataTable =\n",
              "            await google.colab.kernel.invokeFunction('convertToInteractive',\n",
              "                                                     [key], {});\n",
              "          if (!dataTable) return;\n",
              "\n",
              "          const docLinkHtml = 'Like what you see? Visit the ' +\n",
              "            '<a target=\"_blank\" href=https://colab.research.google.com/notebooks/data_table.ipynb>data table notebook</a>'\n",
              "            + ' to learn more about interactive tables.';\n",
              "          element.innerHTML = '';\n",
              "          dataTable['output_type'] = 'display_data';\n",
              "          await google.colab.output.renderOutput(dataTable, element);\n",
              "          const docLink = document.createElement('div');\n",
              "          docLink.innerHTML = docLinkHtml;\n",
              "          element.appendChild(docLink);\n",
              "        }\n",
              "      </script>\n",
              "    </div>\n",
              "  </div>\n",
              "  "
            ]
          },
          "metadata": {},
          "execution_count": 277
        }
      ]
    },
    {
      "cell_type": "code",
      "source": [
        "col_names = ['Course_Name', 'Ratings(out_of_5)', 'reviews', 'skill_1', 'skill_2', 'skill_3', 'skill_4', 'skill_5']\n",
        "df.columns = col_names\n",
        "df.columns"
      ],
      "metadata": {
        "colab": {
          "base_uri": "https://localhost:8080/"
        },
        "id": "PFAWQTcHblEk",
        "outputId": "a22ca12d-ea90-4298-b498-9dfb49ffaa36"
      },
      "execution_count": null,
      "outputs": [
        {
          "output_type": "execute_result",
          "data": {
            "text/plain": [
              "Index(['Course_Name', 'Ratings(out_of_5)', 'reviews', 'skill_1', 'skill_2',\n",
              "       'skill_3', 'skill_4', 'skill_5'],\n",
              "      dtype='object')"
            ]
          },
          "metadata": {},
          "execution_count": 278
        }
      ]
    },
    {
      "cell_type": "code",
      "source": [
        "df.info()"
      ],
      "metadata": {
        "colab": {
          "base_uri": "https://localhost:8080/"
        },
        "id": "O0Pqod1Iaf8O",
        "outputId": "200b58fe-872e-4980-c98e-445395d32421"
      },
      "execution_count": null,
      "outputs": [
        {
          "output_type": "stream",
          "name": "stdout",
          "text": [
            "<class 'pandas.core.frame.DataFrame'>\n",
            "RangeIndex: 106 entries, 0 to 105\n",
            "Data columns (total 8 columns):\n",
            " #   Column             Non-Null Count  Dtype  \n",
            "---  ------             --------------  -----  \n",
            " 0   Course_Name        106 non-null    object \n",
            " 1   Ratings(out_of_5)  106 non-null    float64\n",
            " 2   reviews            95 non-null     object \n",
            " 3   skill_1            89 non-null     object \n",
            " 4   skill_2            89 non-null     object \n",
            " 5   skill_3            89 non-null     object \n",
            " 6   skill_4            79 non-null     object \n",
            " 7   skill_5            63 non-null     object \n",
            "dtypes: float64(1), object(7)\n",
            "memory usage: 6.8+ KB\n"
          ]
        }
      ]
    },
    {
      "cell_type": "code",
      "source": [
        "categorical = [var for var in df.columns if df[var].dtype=='O']\n",
        "print('There are {} categorical variables\\n'.format(len(categorical)))\n",
        "print('The categorical variables are :\\n\\n', categorical)"
      ],
      "metadata": {
        "colab": {
          "base_uri": "https://localhost:8080/"
        },
        "id": "GbXXKT5majH3",
        "outputId": "576971c7-0e9c-4334-fccc-6f1684648899"
      },
      "execution_count": null,
      "outputs": [
        {
          "output_type": "stream",
          "name": "stdout",
          "text": [
            "There are 7 categorical variables\n",
            "\n",
            "The categorical variables are :\n",
            "\n",
            " ['Course_Name', 'reviews', 'skill_1', 'skill_2', 'skill_3', 'skill_4', 'skill_5']\n"
          ]
        }
      ]
    },
    {
      "cell_type": "code",
      "source": [
        "df[categorical].head()"
      ],
      "metadata": {
        "colab": {
          "base_uri": "https://localhost:8080/",
          "height": 206
        },
        "id": "-Xqe_ImWav-W",
        "outputId": "e7784cc9-b0af-408c-951e-116f663bf961"
      },
      "execution_count": null,
      "outputs": [
        {
          "output_type": "execute_result",
          "data": {
            "text/plain": [
              "             Course_Name reviews          skill_1             skill_2  \\\n",
              "0  What is Data Science?  56,977     Data Science       Deep Learning   \n",
              "1  What is Data Science?  24,584     Data Science              Github   \n",
              "2  What is Data Science?  18,023     Data Science         Data Mining   \n",
              "3  What is Data Science?  27,986     Data Science  Python Programming   \n",
              "4  What is Data Science?      33  Database (DBMS)               MySQL   \n",
              "\n",
              "                   skill_3            skill_4      skill_5  \n",
              "0         Machine Learning           Big Data  Data Mining  \n",
              "1       Python Programming  Jupyter notebooks      Rstudio  \n",
              "2              Methodology                NaN          NaN  \n",
              "3            Data Analysis             Pandas        Numpy  \n",
              "4  database administration                NaN          NaN  "
            ],
            "text/html": [
              "\n",
              "  <div id=\"df-6d6b09e2-e074-469f-9673-f788aa058ea3\">\n",
              "    <div class=\"colab-df-container\">\n",
              "      <div>\n",
              "<style scoped>\n",
              "    .dataframe tbody tr th:only-of-type {\n",
              "        vertical-align: middle;\n",
              "    }\n",
              "\n",
              "    .dataframe tbody tr th {\n",
              "        vertical-align: top;\n",
              "    }\n",
              "\n",
              "    .dataframe thead th {\n",
              "        text-align: right;\n",
              "    }\n",
              "</style>\n",
              "<table border=\"1\" class=\"dataframe\">\n",
              "  <thead>\n",
              "    <tr style=\"text-align: right;\">\n",
              "      <th></th>\n",
              "      <th>Course_Name</th>\n",
              "      <th>reviews</th>\n",
              "      <th>skill_1</th>\n",
              "      <th>skill_2</th>\n",
              "      <th>skill_3</th>\n",
              "      <th>skill_4</th>\n",
              "      <th>skill_5</th>\n",
              "    </tr>\n",
              "  </thead>\n",
              "  <tbody>\n",
              "    <tr>\n",
              "      <th>0</th>\n",
              "      <td>What is Data Science?</td>\n",
              "      <td>56,977</td>\n",
              "      <td>Data Science</td>\n",
              "      <td>Deep Learning</td>\n",
              "      <td>Machine Learning</td>\n",
              "      <td>Big Data</td>\n",
              "      <td>Data Mining</td>\n",
              "    </tr>\n",
              "    <tr>\n",
              "      <th>1</th>\n",
              "      <td>What is Data Science?</td>\n",
              "      <td>24,584</td>\n",
              "      <td>Data Science</td>\n",
              "      <td>Github</td>\n",
              "      <td>Python Programming</td>\n",
              "      <td>Jupyter notebooks</td>\n",
              "      <td>Rstudio</td>\n",
              "    </tr>\n",
              "    <tr>\n",
              "      <th>2</th>\n",
              "      <td>What is Data Science?</td>\n",
              "      <td>18,023</td>\n",
              "      <td>Data Science</td>\n",
              "      <td>Data Mining</td>\n",
              "      <td>Methodology</td>\n",
              "      <td>NaN</td>\n",
              "      <td>NaN</td>\n",
              "    </tr>\n",
              "    <tr>\n",
              "      <th>3</th>\n",
              "      <td>What is Data Science?</td>\n",
              "      <td>27,986</td>\n",
              "      <td>Data Science</td>\n",
              "      <td>Python Programming</td>\n",
              "      <td>Data Analysis</td>\n",
              "      <td>Pandas</td>\n",
              "      <td>Numpy</td>\n",
              "    </tr>\n",
              "    <tr>\n",
              "      <th>4</th>\n",
              "      <td>What is Data Science?</td>\n",
              "      <td>33</td>\n",
              "      <td>Database (DBMS)</td>\n",
              "      <td>MySQL</td>\n",
              "      <td>database administration</td>\n",
              "      <td>NaN</td>\n",
              "      <td>NaN</td>\n",
              "    </tr>\n",
              "  </tbody>\n",
              "</table>\n",
              "</div>\n",
              "      <button class=\"colab-df-convert\" onclick=\"convertToInteractive('df-6d6b09e2-e074-469f-9673-f788aa058ea3')\"\n",
              "              title=\"Convert this dataframe to an interactive table.\"\n",
              "              style=\"display:none;\">\n",
              "        \n",
              "  <svg xmlns=\"http://www.w3.org/2000/svg\" height=\"24px\"viewBox=\"0 0 24 24\"\n",
              "       width=\"24px\">\n",
              "    <path d=\"M0 0h24v24H0V0z\" fill=\"none\"/>\n",
              "    <path d=\"M18.56 5.44l.94 2.06.94-2.06 2.06-.94-2.06-.94-.94-2.06-.94 2.06-2.06.94zm-11 1L8.5 8.5l.94-2.06 2.06-.94-2.06-.94L8.5 2.5l-.94 2.06-2.06.94zm10 10l.94 2.06.94-2.06 2.06-.94-2.06-.94-.94-2.06-.94 2.06-2.06.94z\"/><path d=\"M17.41 7.96l-1.37-1.37c-.4-.4-.92-.59-1.43-.59-.52 0-1.04.2-1.43.59L10.3 9.45l-7.72 7.72c-.78.78-.78 2.05 0 2.83L4 21.41c.39.39.9.59 1.41.59.51 0 1.02-.2 1.41-.59l7.78-7.78 2.81-2.81c.8-.78.8-2.07 0-2.86zM5.41 20L4 18.59l7.72-7.72 1.47 1.35L5.41 20z\"/>\n",
              "  </svg>\n",
              "      </button>\n",
              "      \n",
              "  <style>\n",
              "    .colab-df-container {\n",
              "      display:flex;\n",
              "      flex-wrap:wrap;\n",
              "      gap: 12px;\n",
              "    }\n",
              "\n",
              "    .colab-df-convert {\n",
              "      background-color: #E8F0FE;\n",
              "      border: none;\n",
              "      border-radius: 50%;\n",
              "      cursor: pointer;\n",
              "      display: none;\n",
              "      fill: #1967D2;\n",
              "      height: 32px;\n",
              "      padding: 0 0 0 0;\n",
              "      width: 32px;\n",
              "    }\n",
              "\n",
              "    .colab-df-convert:hover {\n",
              "      background-color: #E2EBFA;\n",
              "      box-shadow: 0px 1px 2px rgba(60, 64, 67, 0.3), 0px 1px 3px 1px rgba(60, 64, 67, 0.15);\n",
              "      fill: #174EA6;\n",
              "    }\n",
              "\n",
              "    [theme=dark] .colab-df-convert {\n",
              "      background-color: #3B4455;\n",
              "      fill: #D2E3FC;\n",
              "    }\n",
              "\n",
              "    [theme=dark] .colab-df-convert:hover {\n",
              "      background-color: #434B5C;\n",
              "      box-shadow: 0px 1px 3px 1px rgba(0, 0, 0, 0.15);\n",
              "      filter: drop-shadow(0px 1px 2px rgba(0, 0, 0, 0.3));\n",
              "      fill: #FFFFFF;\n",
              "    }\n",
              "  </style>\n",
              "\n",
              "      <script>\n",
              "        const buttonEl =\n",
              "          document.querySelector('#df-6d6b09e2-e074-469f-9673-f788aa058ea3 button.colab-df-convert');\n",
              "        buttonEl.style.display =\n",
              "          google.colab.kernel.accessAllowed ? 'block' : 'none';\n",
              "\n",
              "        async function convertToInteractive(key) {\n",
              "          const element = document.querySelector('#df-6d6b09e2-e074-469f-9673-f788aa058ea3');\n",
              "          const dataTable =\n",
              "            await google.colab.kernel.invokeFunction('convertToInteractive',\n",
              "                                                     [key], {});\n",
              "          if (!dataTable) return;\n",
              "\n",
              "          const docLinkHtml = 'Like what you see? Visit the ' +\n",
              "            '<a target=\"_blank\" href=https://colab.research.google.com/notebooks/data_table.ipynb>data table notebook</a>'\n",
              "            + ' to learn more about interactive tables.';\n",
              "          element.innerHTML = '';\n",
              "          dataTable['output_type'] = 'display_data';\n",
              "          await google.colab.output.renderOutput(dataTable, element);\n",
              "          const docLink = document.createElement('div');\n",
              "          docLink.innerHTML = docLinkHtml;\n",
              "          element.appendChild(docLink);\n",
              "        }\n",
              "      </script>\n",
              "    </div>\n",
              "  </div>\n",
              "  "
            ]
          },
          "metadata": {},
          "execution_count": 281
        }
      ]
    },
    {
      "cell_type": "code",
      "source": [
        "df[categorical].isnull().sum()"
      ],
      "metadata": {
        "colab": {
          "base_uri": "https://localhost:8080/"
        },
        "id": "Hkv1nBDba2AM",
        "outputId": "3eb06ad7-c9b3-4081-dc19-f23078e05291"
      },
      "execution_count": null,
      "outputs": [
        {
          "output_type": "execute_result",
          "data": {
            "text/plain": [
              "Course_Name     0\n",
              "reviews        11\n",
              "skill_1        17\n",
              "skill_2        17\n",
              "skill_3        17\n",
              "skill_4        27\n",
              "skill_5        43\n",
              "dtype: int64"
            ]
          },
          "metadata": {},
          "execution_count": 282
        }
      ]
    },
    {
      "cell_type": "code",
      "source": [
        "for var in categorical: \n",
        "    print(df[var].value_counts())"
      ],
      "metadata": {
        "colab": {
          "base_uri": "https://localhost:8080/"
        },
        "id": "SL_qxlyha7GG",
        "outputId": "755974b5-bc11-4db7-892d-3bfee40c60d2"
      },
      "execution_count": null,
      "outputs": [
        {
          "output_type": "stream",
          "name": "stdout",
          "text": [
            "Turn Ethical Frameworks into Actionable Steps    54\n",
            "What is Data Science?                            52\n",
            "Name: Course_Name, dtype: int64\n",
            "27,986    4\n",
            "1,067     2\n",
            "53        2\n",
            "7,919     2\n",
            "3,759     2\n",
            "         ..\n",
            "277       1\n",
            "843       1\n",
            "21        1\n",
            "51        1\n",
            "13        1\n",
            "Name: reviews, Length: 86, dtype: int64\n",
            "Data Science                                                                                                    14\n",
            "Marketing                                                                                                        5\n",
            "Spreadsheet                                                                                                      4\n",
            "Database (DB) Design                                                                                             3\n",
            "Deep Learning                                                                                                    3\n",
            "Social Media Marketing                                                                                           3\n",
            "Customer Relationship Management (CRM)                                                                           2\n",
            "CRM                                                                                                              2\n",
            "Microsoft Excel                                                                                                  2\n",
            "Extraction, Transformation And Loading (ETL)                                                                     2\n",
            "Data Management                                                                                                  2\n",
            "Project Planning                                                                                                 1\n",
            "Stakeholder Management                                                                                           1\n",
            "Organizational Culture                                                                                           1\n",
            "Basis Of Accounting                                                                                              1\n",
            "Cash Flow                                                                                                        1\n",
            "Accounts receivable and cash receipts                                                                            1\n",
            "SAS Studio                                                                                                       1\n",
            "Tensorflow                                                                                                       1\n",
            "Quality Management                                                                                               1\n",
            "Website Structure                                                                                                1\n",
            "Content Development                                                                                              1\n",
            "Data Analysis                                                                                                    1\n",
            "Python Libraries                                                                                                 1\n",
            "Email Writing                                                                                                    1\n",
            "Lead Management                                                                                                  1\n",
            "Reports and Dashboards                                                                                           1\n",
            "Sales                                                                                                            1\n",
            "Personal Advertisement                                                                                           1\n",
            "Sales Development                                                                                                1\n",
            "Prospecting                                                                                                      1\n",
            "Social Listening                                                                                                 1\n",
            "Business Analysis                                                                                                1\n",
            "Risk Management                                                                                                  1\n",
            "Perform machine learning with Azure Databricks                                                                   1\n",
            "Linux                                                                                                            1\n",
            "Cloud Databases                                                                                                  1\n",
            "Shell Script                                                                                                     1\n",
            "Computer Vision                                                                                                  1\n",
            "Inductive Transfer                                                                                               1\n",
            "Natural Language Processing                                                                                      1\n",
            "Forecasting                                                                                                      1\n",
            "Manage Azure resources for machine learning                                                                      1\n",
            "Machine Learning                                                                                                 1\n",
            "Work with Data and Compute in Azure Machine Learning                                                             1\n",
            "Choose Microsft Azure data technologies that meet different business needs and scale to meet demand securely     1\n",
            "Database (DBMS)                                                                                                  1\n",
            "Design and implement data storage                                                                                1\n",
            "Create data pipelines in the cloud                                                                               1\n",
            "Use Azure Synapse Analytics to build Data Warehouses using modern architecture patterns                          1\n",
            "Artificial Intelligence (AI)                                                                                     1\n",
            "Regression Analysis                                                                                              1\n",
            "Decision Tree                                                                                                    1\n",
            "Dimensionality Reduction                                                                                         1\n",
            "Data-Informed Decision-Making                                                                                    1\n",
            "Data Insight                                                                                                     1\n",
            "design of experiments                                                                                            1\n",
            "Outreach Sequence                                                                                                1\n",
            "Name: skill_1, dtype: int64\n",
            "Python Programming                        7\n",
            "Machine Learning                          4\n",
            "Spreadsheet                               4\n",
            "Database (DBMS)                           4\n",
            "Data Analysis                             4\n",
            "                                         ..\n",
            "Information Privacy                       1\n",
            "Github                                    1\n",
            "Business Strategy                         1\n",
            "Artificial Neural Network                 1\n",
            "Customer Relationship Management (CRM)    1\n",
            "Name: skill_2, Length: 63, dtype: int64\n",
            "Data Analysis                   11\n",
            "Artificial Intelligence (AI)     4\n",
            "Machine Learning                 3\n",
            "Sales Operations                 3\n",
            "Postgresql                       2\n",
            "                                ..\n",
            "Classification Algorithms        1\n",
            "Cluster Analysis                 1\n",
            "Business Process                 1\n",
            "Python Programming               1\n",
            "Lead Management                  1\n",
            "Name: skill_3, Length: 66, dtype: int64\n",
            "Pandas                  4\n",
            "Machine Learning        3\n",
            "SQL                     3\n",
            "IBM Cognos Analytics    2\n",
            "Microsoft Excel         2\n",
            "                       ..\n",
            "Preprocess Data         1\n",
            "Compliance              1\n",
            "Jupyter notebooks       1\n",
            "Communication           1\n",
            "Inside Sales            1\n",
            "Name: skill_4, Length: 64, dtype: int64\n",
            "Numpy                                                                                    4\n",
            "Salesforce                                                                               4\n",
            "SQL                                                                                      3\n",
            "Data Visualization (DataViz)                                                             3\n",
            "Machine Learning (ML) Algorithms                                                         2\n",
            "Project Management                                                                       2\n",
            "Pivot Table                                                                              2\n",
            "Dashboard                                                                                2\n",
            "Relational Database Management System (RDBMS)                                            2\n",
            "Data Mining                                                                              1\n",
            "Double-Entry Bookkeeping System                                                          1\n",
            "Depreciation                                                                             1\n",
            "Project Charter                                                                          1\n",
            "Procurement                                                                              1\n",
            "Marketing Content Development                                                            1\n",
            "Statistical Hypothesis Testing                                                           1\n",
            "Social Media Branding                                                                    1\n",
            "Marketing Plan                                                                           1\n",
            "Customer Outreach                                                                        1\n",
            "Search Engine Optimization (SEO)                                                         1\n",
            "watson                                                                                   1\n",
            "Contact management                                                                       1\n",
            "Resume writing                                                                           1\n",
            "Cold Calling                                                                             1\n",
            "Customer Relationship Management Software                                                1\n",
            "Sales Enablement                                                                         1\n",
            "SAS Programs                                                                             1\n",
            "K-Means Clustering                                                                       1\n",
            "Machine Learning                                                                         1\n",
            "Computer Vision                                                                          1\n",
            "Version Control                                                                          1\n",
            "MySQL                                                                                    1\n",
            "Data Analysis                                                                            1\n",
            "Data Integrity                                                                           1\n",
            "Tensorflow                                                                               1\n",
            "RNNs                                                                                     1\n",
            "prediction                                                                               1\n",
            "Deploy batch inference pipelines and tune hyperparameters with Azure Machine Learning    1\n",
            "Build and query a Delta Lake                                                             1\n",
            "Exploratory Data Analysis                                                                1\n",
            "Principal Component Analysis (PCA)                                                       1\n",
            "classification                                                                           1\n",
            "Ethics Of Artificial Intelligence                                                        1\n",
            "Privacy                                                                                  1\n",
            "Crisis Management                                                                        1\n",
            "Rstudio                                                                                  1\n",
            "keras                                                                                    1\n",
            "Sales Presentation                                                                       1\n",
            "Name: skill_5, dtype: int64\n"
          ]
        }
      ]
    },
    {
      "cell_type": "code",
      "source": [
        "for var in categorical: \n",
        "    print(df[var].value_counts()/np.float(len(df)))"
      ],
      "metadata": {
        "colab": {
          "base_uri": "https://localhost:8080/"
        },
        "id": "vvrhrLiCbJxk",
        "outputId": "5628607c-c36b-4fc1-b872-1e1f589b82d6"
      },
      "execution_count": null,
      "outputs": [
        {
          "output_type": "stream",
          "name": "stdout",
          "text": [
            "Turn Ethical Frameworks into Actionable Steps    0.509434\n",
            "What is Data Science?                            0.490566\n",
            "Name: Course_Name, dtype: float64\n",
            "27,986    0.037736\n",
            "1,067     0.018868\n",
            "53        0.018868\n",
            "7,919     0.018868\n",
            "3,759     0.018868\n",
            "            ...   \n",
            "277       0.009434\n",
            "843       0.009434\n",
            "21        0.009434\n",
            "51        0.009434\n",
            "13        0.009434\n",
            "Name: reviews, Length: 86, dtype: float64\n",
            "Data Science                                                                                                    0.132075\n",
            "Marketing                                                                                                       0.047170\n",
            "Spreadsheet                                                                                                     0.037736\n",
            "Database (DB) Design                                                                                            0.028302\n",
            "Deep Learning                                                                                                   0.028302\n",
            "Social Media Marketing                                                                                          0.028302\n",
            "Customer Relationship Management (CRM)                                                                          0.018868\n",
            "CRM                                                                                                             0.018868\n",
            "Microsoft Excel                                                                                                 0.018868\n",
            "Extraction, Transformation And Loading (ETL)                                                                    0.018868\n",
            "Data Management                                                                                                 0.018868\n",
            "Project Planning                                                                                                0.009434\n",
            "Stakeholder Management                                                                                          0.009434\n",
            "Organizational Culture                                                                                          0.009434\n",
            "Basis Of Accounting                                                                                             0.009434\n",
            "Cash Flow                                                                                                       0.009434\n",
            "Accounts receivable and cash receipts                                                                           0.009434\n",
            "SAS Studio                                                                                                      0.009434\n",
            "Tensorflow                                                                                                      0.009434\n",
            "Quality Management                                                                                              0.009434\n",
            "Website Structure                                                                                               0.009434\n",
            "Content Development                                                                                             0.009434\n",
            "Data Analysis                                                                                                   0.009434\n",
            "Python Libraries                                                                                                0.009434\n",
            "Email Writing                                                                                                   0.009434\n",
            "Lead Management                                                                                                 0.009434\n",
            "Reports and Dashboards                                                                                          0.009434\n",
            "Sales                                                                                                           0.009434\n",
            "Personal Advertisement                                                                                          0.009434\n",
            "Sales Development                                                                                               0.009434\n",
            "Prospecting                                                                                                     0.009434\n",
            "Social Listening                                                                                                0.009434\n",
            "Business Analysis                                                                                               0.009434\n",
            "Risk Management                                                                                                 0.009434\n",
            "Perform machine learning with Azure Databricks                                                                  0.009434\n",
            "Linux                                                                                                           0.009434\n",
            "Cloud Databases                                                                                                 0.009434\n",
            "Shell Script                                                                                                    0.009434\n",
            "Computer Vision                                                                                                 0.009434\n",
            "Inductive Transfer                                                                                              0.009434\n",
            "Natural Language Processing                                                                                     0.009434\n",
            "Forecasting                                                                                                     0.009434\n",
            "Manage Azure resources for machine learning                                                                     0.009434\n",
            "Machine Learning                                                                                                0.009434\n",
            "Work with Data and Compute in Azure Machine Learning                                                            0.009434\n",
            "Choose Microsft Azure data technologies that meet different business needs and scale to meet demand securely    0.009434\n",
            "Database (DBMS)                                                                                                 0.009434\n",
            "Design and implement data storage                                                                               0.009434\n",
            "Create data pipelines in the cloud                                                                              0.009434\n",
            "Use Azure Synapse Analytics to build Data Warehouses using modern architecture patterns                         0.009434\n",
            "Artificial Intelligence (AI)                                                                                    0.009434\n",
            "Regression Analysis                                                                                             0.009434\n",
            "Decision Tree                                                                                                   0.009434\n",
            "Dimensionality Reduction                                                                                        0.009434\n",
            "Data-Informed Decision-Making                                                                                   0.009434\n",
            "Data Insight                                                                                                    0.009434\n",
            "design of experiments                                                                                           0.009434\n",
            "Outreach Sequence                                                                                               0.009434\n",
            "Name: skill_1, dtype: float64\n",
            "Python Programming                        0.066038\n",
            "Machine Learning                          0.037736\n",
            "Spreadsheet                               0.037736\n",
            "Database (DBMS)                           0.037736\n",
            "Data Analysis                             0.037736\n",
            "                                            ...   \n",
            "Information Privacy                       0.009434\n",
            "Github                                    0.009434\n",
            "Business Strategy                         0.009434\n",
            "Artificial Neural Network                 0.009434\n",
            "Customer Relationship Management (CRM)    0.009434\n",
            "Name: skill_2, Length: 63, dtype: float64\n",
            "Data Analysis                   0.103774\n",
            "Artificial Intelligence (AI)    0.037736\n",
            "Machine Learning                0.028302\n",
            "Sales Operations                0.028302\n",
            "Postgresql                      0.018868\n",
            "                                  ...   \n",
            "Classification Algorithms       0.009434\n",
            "Cluster Analysis                0.009434\n",
            "Business Process                0.009434\n",
            "Python Programming              0.009434\n",
            "Lead Management                 0.009434\n",
            "Name: skill_3, Length: 66, dtype: float64\n",
            "Pandas                  0.037736\n",
            "Machine Learning        0.028302\n",
            "SQL                     0.028302\n",
            "IBM Cognos Analytics    0.018868\n",
            "Microsoft Excel         0.018868\n",
            "                          ...   \n",
            "Preprocess Data         0.009434\n",
            "Compliance              0.009434\n",
            "Jupyter notebooks       0.009434\n",
            "Communication           0.009434\n",
            "Inside Sales            0.009434\n",
            "Name: skill_4, Length: 64, dtype: float64\n",
            "Numpy                                                                                    0.037736\n",
            "Salesforce                                                                               0.037736\n",
            "SQL                                                                                      0.028302\n",
            "Data Visualization (DataViz)                                                             0.028302\n",
            "Machine Learning (ML) Algorithms                                                         0.018868\n",
            "Project Management                                                                       0.018868\n",
            "Pivot Table                                                                              0.018868\n",
            "Dashboard                                                                                0.018868\n",
            "Relational Database Management System (RDBMS)                                            0.018868\n",
            "Data Mining                                                                              0.009434\n",
            "Double-Entry Bookkeeping System                                                          0.009434\n",
            "Depreciation                                                                             0.009434\n",
            "Project Charter                                                                          0.009434\n",
            "Procurement                                                                              0.009434\n",
            "Marketing Content Development                                                            0.009434\n",
            "Statistical Hypothesis Testing                                                           0.009434\n",
            "Social Media Branding                                                                    0.009434\n",
            "Marketing Plan                                                                           0.009434\n",
            "Customer Outreach                                                                        0.009434\n",
            "Search Engine Optimization (SEO)                                                         0.009434\n",
            "watson                                                                                   0.009434\n",
            "Contact management                                                                       0.009434\n",
            "Resume writing                                                                           0.009434\n",
            "Cold Calling                                                                             0.009434\n",
            "Customer Relationship Management Software                                                0.009434\n",
            "Sales Enablement                                                                         0.009434\n",
            "SAS Programs                                                                             0.009434\n",
            "K-Means Clustering                                                                       0.009434\n",
            "Machine Learning                                                                         0.009434\n",
            "Computer Vision                                                                          0.009434\n",
            "Version Control                                                                          0.009434\n",
            "MySQL                                                                                    0.009434\n",
            "Data Analysis                                                                            0.009434\n",
            "Data Integrity                                                                           0.009434\n",
            "Tensorflow                                                                               0.009434\n",
            "RNNs                                                                                     0.009434\n",
            "prediction                                                                               0.009434\n",
            "Deploy batch inference pipelines and tune hyperparameters with Azure Machine Learning    0.009434\n",
            "Build and query a Delta Lake                                                             0.009434\n",
            "Exploratory Data Analysis                                                                0.009434\n",
            "Principal Component Analysis (PCA)                                                       0.009434\n",
            "classification                                                                           0.009434\n",
            "Ethics Of Artificial Intelligence                                                        0.009434\n",
            "Privacy                                                                                  0.009434\n",
            "Crisis Management                                                                        0.009434\n",
            "Rstudio                                                                                  0.009434\n",
            "keras                                                                                    0.009434\n",
            "Sales Presentation                                                                       0.009434\n",
            "Name: skill_5, dtype: float64\n"
          ]
        }
      ]
    },
    {
      "cell_type": "code",
      "source": [
        "df.Course_Name.unique()"
      ],
      "metadata": {
        "colab": {
          "base_uri": "https://localhost:8080/"
        },
        "id": "9DQP6DklbUAF",
        "outputId": "d460a410-df0c-4c8a-841f-7cdb72779480"
      },
      "execution_count": null,
      "outputs": [
        {
          "output_type": "execute_result",
          "data": {
            "text/plain": [
              "array(['What is Data Science?',\n",
              "       'Turn Ethical Frameworks into Actionable Steps'], dtype=object)"
            ]
          },
          "metadata": {},
          "execution_count": 287
        }
      ]
    },
    {
      "cell_type": "code",
      "source": [
        "df.Course_Name.value_counts()"
      ],
      "metadata": {
        "colab": {
          "base_uri": "https://localhost:8080/"
        },
        "id": "05z5vXdocIxl",
        "outputId": "022a5422-dc40-40a3-b1f9-66513f9aa753"
      },
      "execution_count": null,
      "outputs": [
        {
          "output_type": "execute_result",
          "data": {
            "text/plain": [
              "Turn Ethical Frameworks into Actionable Steps    54\n",
              "What is Data Science?                            52\n",
              "Name: Course_Name, dtype: int64"
            ]
          },
          "metadata": {},
          "execution_count": 288
        }
      ]
    },
    {
      "cell_type": "code",
      "source": [
        "df['Course_Name'].replace('n/a', np.NaN, inplace=True)"
      ],
      "metadata": {
        "id": "HYl4A-IjcRSS"
      },
      "execution_count": null,
      "outputs": []
    },
    {
      "cell_type": "code",
      "source": [
        "df.Course_Name.value_counts()"
      ],
      "metadata": {
        "colab": {
          "base_uri": "https://localhost:8080/"
        },
        "id": "y5w3IsrzcaV0",
        "outputId": "905ed8b6-b273-4b1f-89f0-615f39387eed"
      },
      "execution_count": null,
      "outputs": [
        {
          "output_type": "execute_result",
          "data": {
            "text/plain": [
              "Turn Ethical Frameworks into Actionable Steps    54\n",
              "What is Data Science?                            52\n",
              "Name: Course_Name, dtype: int64"
            ]
          },
          "metadata": {},
          "execution_count": 290
        }
      ]
    },
    {
      "cell_type": "code",
      "source": [
        "df.reviews.unique()"
      ],
      "metadata": {
        "colab": {
          "base_uri": "https://localhost:8080/"
        },
        "id": "aa292h__cfcq",
        "outputId": "c6a5119a-85b3-4044-b6dd-f1b83e211877"
      },
      "execution_count": null,
      "outputs": [
        {
          "output_type": "execute_result",
          "data": {
            "text/plain": [
              "array(['56,977', '24,584', '18,023', '27,986', '33', '235', nan, '54,559',\n",
              "       '16,465', '9,692', '7,100', '7,919', '3,759', '1,843', '1,067',\n",
              "       '265', '208', '39', '15,830', '419', '17,545', '7,458', '5,961',\n",
              "       '4,541', '59', '35', '15', '190', '52', '51', '21', '843', '277',\n",
              "       '166', '141', '185', '104', '66', '10', '138', '88', '62', '53',\n",
              "       '12,940', '1,111', '815', '1,184', '9,662', '2,488', '2,227',\n",
              "       '14,928', '2,562', '1,534', '1,167', '2,568', '824', '76', '55',\n",
              "       '750', '306', '196', '178', '2,085', '425', '180', '43,105',\n",
              "       '9,667', '5,637', '3,627', '8,645', '3,091', '1,335', '1,501',\n",
              "       '945', '116', '68', '2,808', '576', '232', '144', '382', '120',\n",
              "       '69', '67', '212', '29', '13'], dtype=object)"
            ]
          },
          "metadata": {},
          "execution_count": 291
        }
      ]
    },
    {
      "cell_type": "code",
      "source": [
        "df.reviews.value_counts()"
      ],
      "metadata": {
        "colab": {
          "base_uri": "https://localhost:8080/"
        },
        "id": "8FwrGhUOcn6-",
        "outputId": "d58c05b7-9b28-4cd0-c28a-caa74cbae9f0"
      },
      "execution_count": null,
      "outputs": [
        {
          "output_type": "execute_result",
          "data": {
            "text/plain": [
              "27,986    4\n",
              "1,067     2\n",
              "53        2\n",
              "7,919     2\n",
              "3,759     2\n",
              "         ..\n",
              "277       1\n",
              "843       1\n",
              "21        1\n",
              "51        1\n",
              "13        1\n",
              "Name: reviews, Length: 86, dtype: int64"
            ]
          },
          "metadata": {},
          "execution_count": 292
        }
      ]
    },
    {
      "cell_type": "code",
      "source": [
        "df['reviews'].replace('n/a', np.NaN, inplace=True)"
      ],
      "metadata": {
        "id": "MGAPZCtactZ4"
      },
      "execution_count": null,
      "outputs": []
    },
    {
      "cell_type": "code",
      "source": [
        "df.reviews.value_counts()"
      ],
      "metadata": {
        "colab": {
          "base_uri": "https://localhost:8080/"
        },
        "id": "Y6-NSnGQcySy",
        "outputId": "f509d9c8-5a5f-487f-c005-ba1ad3a10200"
      },
      "execution_count": null,
      "outputs": [
        {
          "output_type": "execute_result",
          "data": {
            "text/plain": [
              "27,986    4\n",
              "1,067     2\n",
              "53        2\n",
              "7,919     2\n",
              "3,759     2\n",
              "         ..\n",
              "277       1\n",
              "843       1\n",
              "21        1\n",
              "51        1\n",
              "13        1\n",
              "Name: reviews, Length: 86, dtype: int64"
            ]
          },
          "metadata": {},
          "execution_count": 294
        }
      ]
    },
    {
      "cell_type": "code",
      "source": [
        "df.skill_1.unique()"
      ],
      "metadata": {
        "colab": {
          "base_uri": "https://localhost:8080/"
        },
        "id": "sVg1jMMwc3yZ",
        "outputId": "a1da1b9c-2076-47bf-ce8f-922e97d2a791"
      },
      "execution_count": null,
      "outputs": [
        {
          "output_type": "execute_result",
          "data": {
            "text/plain": [
              "array(['Data Science', 'Database (DBMS)', 'Linux', 'Data Management',\n",
              "       'Database (DB) Design', 'Spreadsheet', 'Microsoft Excel',\n",
              "       'Extraction, Transformation And Loading (ETL)', nan,\n",
              "       'Cloud Databases', 'Shell Script', 'Computer Vision',\n",
              "       'Inductive Transfer', 'Natural Language Processing', 'Forecasting',\n",
              "       'Manage Azure resources for machine learning', 'Machine Learning',\n",
              "       'Work with Data and Compute in Azure Machine Learning',\n",
              "       'Perform machine learning with Azure Databricks',\n",
              "       'Choose Microsft Azure data technologies that meet different business needs and scale to meet demand securely',\n",
              "       'Design and implement data storage',\n",
              "       'Create data pipelines in the cloud',\n",
              "       'Use Azure Synapse Analytics to build Data Warehouses using modern architecture patterns',\n",
              "       'Artificial Intelligence (AI)', 'Regression Analysis',\n",
              "       'Decision Tree', 'Dimensionality Reduction',\n",
              "       'Data-Informed Decision-Making', 'Data Insight',\n",
              "       'design of experiments', 'Business Analysis', 'Risk Management',\n",
              "       'Marketing', 'Python Libraries', 'Deep Learning', 'Tensorflow',\n",
              "       'SAS Studio', 'Basis Of Accounting',\n",
              "       'Accounts receivable and cash receipts', 'Cash Flow',\n",
              "       'Organizational Culture', 'Stakeholder Management',\n",
              "       'Project Planning', 'Quality Management', 'Social Media Marketing',\n",
              "       'Content Development', 'Data Analysis', 'Website Structure',\n",
              "       'Social Listening', 'Email Writing', 'CRM', 'Lead Management',\n",
              "       'Reports and Dashboards', 'Sales', 'Personal Advertisement',\n",
              "       'Sales Development', 'Prospecting',\n",
              "       'Customer Relationship Management (CRM)', 'Outreach Sequence'],\n",
              "      dtype=object)"
            ]
          },
          "metadata": {},
          "execution_count": 295
        }
      ]
    },
    {
      "cell_type": "code",
      "source": [
        "df.skill_1.value_counts()"
      ],
      "metadata": {
        "colab": {
          "base_uri": "https://localhost:8080/"
        },
        "id": "zPJqTna4dFVF",
        "outputId": "529d2b9c-546b-4189-b6b3-c91f95088a67"
      },
      "execution_count": null,
      "outputs": [
        {
          "output_type": "execute_result",
          "data": {
            "text/plain": [
              "Data Science                                                                                                    14\n",
              "Marketing                                                                                                        5\n",
              "Spreadsheet                                                                                                      4\n",
              "Database (DB) Design                                                                                             3\n",
              "Deep Learning                                                                                                    3\n",
              "Social Media Marketing                                                                                           3\n",
              "Customer Relationship Management (CRM)                                                                           2\n",
              "CRM                                                                                                              2\n",
              "Microsoft Excel                                                                                                  2\n",
              "Extraction, Transformation And Loading (ETL)                                                                     2\n",
              "Data Management                                                                                                  2\n",
              "Project Planning                                                                                                 1\n",
              "Stakeholder Management                                                                                           1\n",
              "Organizational Culture                                                                                           1\n",
              "Basis Of Accounting                                                                                              1\n",
              "Cash Flow                                                                                                        1\n",
              "Accounts receivable and cash receipts                                                                            1\n",
              "SAS Studio                                                                                                       1\n",
              "Tensorflow                                                                                                       1\n",
              "Quality Management                                                                                               1\n",
              "Website Structure                                                                                                1\n",
              "Content Development                                                                                              1\n",
              "Data Analysis                                                                                                    1\n",
              "Python Libraries                                                                                                 1\n",
              "Email Writing                                                                                                    1\n",
              "Lead Management                                                                                                  1\n",
              "Reports and Dashboards                                                                                           1\n",
              "Sales                                                                                                            1\n",
              "Personal Advertisement                                                                                           1\n",
              "Sales Development                                                                                                1\n",
              "Prospecting                                                                                                      1\n",
              "Social Listening                                                                                                 1\n",
              "Business Analysis                                                                                                1\n",
              "Risk Management                                                                                                  1\n",
              "Perform machine learning with Azure Databricks                                                                   1\n",
              "Linux                                                                                                            1\n",
              "Cloud Databases                                                                                                  1\n",
              "Shell Script                                                                                                     1\n",
              "Computer Vision                                                                                                  1\n",
              "Inductive Transfer                                                                                               1\n",
              "Natural Language Processing                                                                                      1\n",
              "Forecasting                                                                                                      1\n",
              "Manage Azure resources for machine learning                                                                      1\n",
              "Machine Learning                                                                                                 1\n",
              "Work with Data and Compute in Azure Machine Learning                                                             1\n",
              "Choose Microsft Azure data technologies that meet different business needs and scale to meet demand securely     1\n",
              "Database (DBMS)                                                                                                  1\n",
              "Design and implement data storage                                                                                1\n",
              "Create data pipelines in the cloud                                                                               1\n",
              "Use Azure Synapse Analytics to build Data Warehouses using modern architecture patterns                          1\n",
              "Artificial Intelligence (AI)                                                                                     1\n",
              "Regression Analysis                                                                                              1\n",
              "Decision Tree                                                                                                    1\n",
              "Dimensionality Reduction                                                                                         1\n",
              "Data-Informed Decision-Making                                                                                    1\n",
              "Data Insight                                                                                                     1\n",
              "design of experiments                                                                                            1\n",
              "Outreach Sequence                                                                                                1\n",
              "Name: skill_1, dtype: int64"
            ]
          },
          "metadata": {},
          "execution_count": 296
        }
      ]
    },
    {
      "cell_type": "code",
      "source": [
        "df['skill_1'].replace('n/a', np.NaN, inplace=True)"
      ],
      "metadata": {
        "id": "-dXcRNzidLXr"
      },
      "execution_count": null,
      "outputs": []
    },
    {
      "cell_type": "code",
      "source": [
        "df.skill_1.value_counts()"
      ],
      "metadata": {
        "colab": {
          "base_uri": "https://localhost:8080/"
        },
        "id": "peKXlQ9BdRZZ",
        "outputId": "b14ee2b3-24f9-4eb8-ec15-f757dd15e66b"
      },
      "execution_count": null,
      "outputs": [
        {
          "output_type": "execute_result",
          "data": {
            "text/plain": [
              "Data Science                                                                                                    14\n",
              "Marketing                                                                                                        5\n",
              "Spreadsheet                                                                                                      4\n",
              "Database (DB) Design                                                                                             3\n",
              "Deep Learning                                                                                                    3\n",
              "Social Media Marketing                                                                                           3\n",
              "Customer Relationship Management (CRM)                                                                           2\n",
              "CRM                                                                                                              2\n",
              "Microsoft Excel                                                                                                  2\n",
              "Extraction, Transformation And Loading (ETL)                                                                     2\n",
              "Data Management                                                                                                  2\n",
              "Project Planning                                                                                                 1\n",
              "Stakeholder Management                                                                                           1\n",
              "Organizational Culture                                                                                           1\n",
              "Basis Of Accounting                                                                                              1\n",
              "Cash Flow                                                                                                        1\n",
              "Accounts receivable and cash receipts                                                                            1\n",
              "SAS Studio                                                                                                       1\n",
              "Tensorflow                                                                                                       1\n",
              "Quality Management                                                                                               1\n",
              "Website Structure                                                                                                1\n",
              "Content Development                                                                                              1\n",
              "Data Analysis                                                                                                    1\n",
              "Python Libraries                                                                                                 1\n",
              "Email Writing                                                                                                    1\n",
              "Lead Management                                                                                                  1\n",
              "Reports and Dashboards                                                                                           1\n",
              "Sales                                                                                                            1\n",
              "Personal Advertisement                                                                                           1\n",
              "Sales Development                                                                                                1\n",
              "Prospecting                                                                                                      1\n",
              "Social Listening                                                                                                 1\n",
              "Business Analysis                                                                                                1\n",
              "Risk Management                                                                                                  1\n",
              "Perform machine learning with Azure Databricks                                                                   1\n",
              "Linux                                                                                                            1\n",
              "Cloud Databases                                                                                                  1\n",
              "Shell Script                                                                                                     1\n",
              "Computer Vision                                                                                                  1\n",
              "Inductive Transfer                                                                                               1\n",
              "Natural Language Processing                                                                                      1\n",
              "Forecasting                                                                                                      1\n",
              "Manage Azure resources for machine learning                                                                      1\n",
              "Machine Learning                                                                                                 1\n",
              "Work with Data and Compute in Azure Machine Learning                                                             1\n",
              "Choose Microsft Azure data technologies that meet different business needs and scale to meet demand securely     1\n",
              "Database (DBMS)                                                                                                  1\n",
              "Design and implement data storage                                                                                1\n",
              "Create data pipelines in the cloud                                                                               1\n",
              "Use Azure Synapse Analytics to build Data Warehouses using modern architecture patterns                          1\n",
              "Artificial Intelligence (AI)                                                                                     1\n",
              "Regression Analysis                                                                                              1\n",
              "Decision Tree                                                                                                    1\n",
              "Dimensionality Reduction                                                                                         1\n",
              "Data-Informed Decision-Making                                                                                    1\n",
              "Data Insight                                                                                                     1\n",
              "design of experiments                                                                                            1\n",
              "Outreach Sequence                                                                                                1\n",
              "Name: skill_1, dtype: int64"
            ]
          },
          "metadata": {},
          "execution_count": 298
        }
      ]
    },
    {
      "cell_type": "code",
      "source": [
        "df[categorical].isnull().sum()"
      ],
      "metadata": {
        "colab": {
          "base_uri": "https://localhost:8080/"
        },
        "id": "evOLpDFvdV9x",
        "outputId": "b743bf35-ecde-4f33-a208-37672b32fac9"
      },
      "execution_count": null,
      "outputs": [
        {
          "output_type": "execute_result",
          "data": {
            "text/plain": [
              "Course_Name     0\n",
              "reviews        11\n",
              "skill_1        17\n",
              "skill_2        17\n",
              "skill_3        17\n",
              "skill_4        27\n",
              "skill_5        43\n",
              "dtype: int64"
            ]
          },
          "metadata": {},
          "execution_count": 299
        }
      ]
    },
    {
      "cell_type": "code",
      "source": [
        "for var in categorical:\n",
        "    print(var, ' contains ', len(df[var].unique()), ' labels')"
      ],
      "metadata": {
        "colab": {
          "base_uri": "https://localhost:8080/"
        },
        "id": "IkxlRsl_f1k2",
        "outputId": "2be1a31c-1ec7-473d-d4a7-b05a57f0cf02"
      },
      "execution_count": null,
      "outputs": [
        {
          "output_type": "stream",
          "name": "stdout",
          "text": [
            "Course_Name  contains  2  labels\n",
            "reviews  contains  87  labels\n",
            "skill_1  contains  59  labels\n",
            "skill_2  contains  64  labels\n",
            "skill_3  contains  67  labels\n",
            "skill_4  contains  65  labels\n",
            "skill_5  contains  49  labels\n"
          ]
        }
      ]
    },
    {
      "cell_type": "code",
      "source": [
        "numerical = [var for var in df.columns if df[var].dtype!='O']\n",
        "print('There are {} numerical variables\\n'.format(len(numerical)))\n",
        "print('The numerical variables are :', numerical)"
      ],
      "metadata": {
        "colab": {
          "base_uri": "https://localhost:8080/"
        },
        "id": "X6K6oMLdf2p6",
        "outputId": "cbbd7fc2-367e-4242-dd6c-7ca2b1ff27b9"
      },
      "execution_count": null,
      "outputs": [
        {
          "output_type": "stream",
          "name": "stdout",
          "text": [
            "There are 1 numerical variables\n",
            "\n",
            "The numerical variables are : ['Ratings(out_of_5)']\n"
          ]
        }
      ]
    },
    {
      "cell_type": "code",
      "source": [
        "df[numerical].head()"
      ],
      "metadata": {
        "colab": {
          "base_uri": "https://localhost:8080/",
          "height": 206
        },
        "id": "yqs3y7rYgCpY",
        "outputId": "994c27d8-ecaf-47ec-8a45-31f8b1e4f6ed"
      },
      "execution_count": null,
      "outputs": [
        {
          "output_type": "execute_result",
          "data": {
            "text/plain": [
              "   Ratings(out_of_5)\n",
              "0                4.7\n",
              "1                4.5\n",
              "2                4.6\n",
              "3                4.6\n",
              "4                4.7"
            ],
            "text/html": [
              "\n",
              "  <div id=\"df-bbd8cfc4-2ef8-44d8-8d7b-47b2954e38f1\">\n",
              "    <div class=\"colab-df-container\">\n",
              "      <div>\n",
              "<style scoped>\n",
              "    .dataframe tbody tr th:only-of-type {\n",
              "        vertical-align: middle;\n",
              "    }\n",
              "\n",
              "    .dataframe tbody tr th {\n",
              "        vertical-align: top;\n",
              "    }\n",
              "\n",
              "    .dataframe thead th {\n",
              "        text-align: right;\n",
              "    }\n",
              "</style>\n",
              "<table border=\"1\" class=\"dataframe\">\n",
              "  <thead>\n",
              "    <tr style=\"text-align: right;\">\n",
              "      <th></th>\n",
              "      <th>Ratings(out_of_5)</th>\n",
              "    </tr>\n",
              "  </thead>\n",
              "  <tbody>\n",
              "    <tr>\n",
              "      <th>0</th>\n",
              "      <td>4.7</td>\n",
              "    </tr>\n",
              "    <tr>\n",
              "      <th>1</th>\n",
              "      <td>4.5</td>\n",
              "    </tr>\n",
              "    <tr>\n",
              "      <th>2</th>\n",
              "      <td>4.6</td>\n",
              "    </tr>\n",
              "    <tr>\n",
              "      <th>3</th>\n",
              "      <td>4.6</td>\n",
              "    </tr>\n",
              "    <tr>\n",
              "      <th>4</th>\n",
              "      <td>4.7</td>\n",
              "    </tr>\n",
              "  </tbody>\n",
              "</table>\n",
              "</div>\n",
              "      <button class=\"colab-df-convert\" onclick=\"convertToInteractive('df-bbd8cfc4-2ef8-44d8-8d7b-47b2954e38f1')\"\n",
              "              title=\"Convert this dataframe to an interactive table.\"\n",
              "              style=\"display:none;\">\n",
              "        \n",
              "  <svg xmlns=\"http://www.w3.org/2000/svg\" height=\"24px\"viewBox=\"0 0 24 24\"\n",
              "       width=\"24px\">\n",
              "    <path d=\"M0 0h24v24H0V0z\" fill=\"none\"/>\n",
              "    <path d=\"M18.56 5.44l.94 2.06.94-2.06 2.06-.94-2.06-.94-.94-2.06-.94 2.06-2.06.94zm-11 1L8.5 8.5l.94-2.06 2.06-.94-2.06-.94L8.5 2.5l-.94 2.06-2.06.94zm10 10l.94 2.06.94-2.06 2.06-.94-2.06-.94-.94-2.06-.94 2.06-2.06.94z\"/><path d=\"M17.41 7.96l-1.37-1.37c-.4-.4-.92-.59-1.43-.59-.52 0-1.04.2-1.43.59L10.3 9.45l-7.72 7.72c-.78.78-.78 2.05 0 2.83L4 21.41c.39.39.9.59 1.41.59.51 0 1.02-.2 1.41-.59l7.78-7.78 2.81-2.81c.8-.78.8-2.07 0-2.86zM5.41 20L4 18.59l7.72-7.72 1.47 1.35L5.41 20z\"/>\n",
              "  </svg>\n",
              "      </button>\n",
              "      \n",
              "  <style>\n",
              "    .colab-df-container {\n",
              "      display:flex;\n",
              "      flex-wrap:wrap;\n",
              "      gap: 12px;\n",
              "    }\n",
              "\n",
              "    .colab-df-convert {\n",
              "      background-color: #E8F0FE;\n",
              "      border: none;\n",
              "      border-radius: 50%;\n",
              "      cursor: pointer;\n",
              "      display: none;\n",
              "      fill: #1967D2;\n",
              "      height: 32px;\n",
              "      padding: 0 0 0 0;\n",
              "      width: 32px;\n",
              "    }\n",
              "\n",
              "    .colab-df-convert:hover {\n",
              "      background-color: #E2EBFA;\n",
              "      box-shadow: 0px 1px 2px rgba(60, 64, 67, 0.3), 0px 1px 3px 1px rgba(60, 64, 67, 0.15);\n",
              "      fill: #174EA6;\n",
              "    }\n",
              "\n",
              "    [theme=dark] .colab-df-convert {\n",
              "      background-color: #3B4455;\n",
              "      fill: #D2E3FC;\n",
              "    }\n",
              "\n",
              "    [theme=dark] .colab-df-convert:hover {\n",
              "      background-color: #434B5C;\n",
              "      box-shadow: 0px 1px 3px 1px rgba(0, 0, 0, 0.15);\n",
              "      filter: drop-shadow(0px 1px 2px rgba(0, 0, 0, 0.3));\n",
              "      fill: #FFFFFF;\n",
              "    }\n",
              "  </style>\n",
              "\n",
              "      <script>\n",
              "        const buttonEl =\n",
              "          document.querySelector('#df-bbd8cfc4-2ef8-44d8-8d7b-47b2954e38f1 button.colab-df-convert');\n",
              "        buttonEl.style.display =\n",
              "          google.colab.kernel.accessAllowed ? 'block' : 'none';\n",
              "\n",
              "        async function convertToInteractive(key) {\n",
              "          const element = document.querySelector('#df-bbd8cfc4-2ef8-44d8-8d7b-47b2954e38f1');\n",
              "          const dataTable =\n",
              "            await google.colab.kernel.invokeFunction('convertToInteractive',\n",
              "                                                     [key], {});\n",
              "          if (!dataTable) return;\n",
              "\n",
              "          const docLinkHtml = 'Like what you see? Visit the ' +\n",
              "            '<a target=\"_blank\" href=https://colab.research.google.com/notebooks/data_table.ipynb>data table notebook</a>'\n",
              "            + ' to learn more about interactive tables.';\n",
              "          element.innerHTML = '';\n",
              "          dataTable['output_type'] = 'display_data';\n",
              "          await google.colab.output.renderOutput(dataTable, element);\n",
              "          const docLink = document.createElement('div');\n",
              "          docLink.innerHTML = docLinkHtml;\n",
              "          element.appendChild(docLink);\n",
              "        }\n",
              "      </script>\n",
              "    </div>\n",
              "  </div>\n",
              "  "
            ]
          },
          "metadata": {},
          "execution_count": 302
        }
      ]
    },
    {
      "cell_type": "code",
      "source": [
        "df[numerical].isnull().sum()"
      ],
      "metadata": {
        "colab": {
          "base_uri": "https://localhost:8080/"
        },
        "id": "nH5MgorOgHBE",
        "outputId": "7039f7d2-11a6-42ca-c4a5-cf6bfa6441b6"
      },
      "execution_count": null,
      "outputs": [
        {
          "output_type": "execute_result",
          "data": {
            "text/plain": [
              "Ratings(out_of_5)    0\n",
              "dtype: int64"
            ]
          },
          "metadata": {},
          "execution_count": 303
        }
      ]
    },
    {
      "cell_type": "code",
      "source": [
        "X = df.drop(['Course_Name'], axis=1)\n",
        "y = df['Course_Name']"
      ],
      "metadata": {
        "id": "gpPa4O-Khx-8"
      },
      "execution_count": null,
      "outputs": []
    },
    {
      "cell_type": "code",
      "source": [
        "from sklearn.model_selection import train_test_split\n",
        "X_train, X_test, y_train, y_test = train_test_split(X, y, test_size = 0.3, random_state = 0)"
      ],
      "metadata": {
        "id": "Gf1L609mh_hJ"
      },
      "execution_count": null,
      "outputs": []
    },
    {
      "cell_type": "code",
      "source": [
        "X_train.shape, X_test.shape"
      ],
      "metadata": {
        "colab": {
          "base_uri": "https://localhost:8080/"
        },
        "id": "MbIijBlOiArs",
        "outputId": "7cc07a0b-4d08-4028-fba3-8f569137d945"
      },
      "execution_count": null,
      "outputs": [
        {
          "output_type": "execute_result",
          "data": {
            "text/plain": [
              "((74, 7), (32, 7))"
            ]
          },
          "metadata": {},
          "execution_count": 306
        }
      ]
    },
    {
      "cell_type": "code",
      "source": [
        "X_train.dtypes"
      ],
      "metadata": {
        "colab": {
          "base_uri": "https://localhost:8080/"
        },
        "id": "TJhlCl2LiEtp",
        "outputId": "303e8b29-3df5-4608-dff8-e283cdb7aa01"
      },
      "execution_count": null,
      "outputs": [
        {
          "output_type": "execute_result",
          "data": {
            "text/plain": [
              "Ratings(out_of_5)    float64\n",
              "reviews               object\n",
              "skill_1               object\n",
              "skill_2               object\n",
              "skill_3               object\n",
              "skill_4               object\n",
              "skill_5               object\n",
              "dtype: object"
            ]
          },
          "metadata": {},
          "execution_count": 307
        }
      ]
    },
    {
      "cell_type": "code",
      "source": [
        "categorical = [col for col in X_train.columns if X_train[col].dtypes == 'O']\n",
        "categorical"
      ],
      "metadata": {
        "colab": {
          "base_uri": "https://localhost:8080/"
        },
        "id": "smrqI_roiNae",
        "outputId": "f8d7e5f2-c06d-40a2-a797-22912f6bdc0d"
      },
      "execution_count": null,
      "outputs": [
        {
          "output_type": "execute_result",
          "data": {
            "text/plain": [
              "['reviews', 'skill_1', 'skill_2', 'skill_3', 'skill_4', 'skill_5']"
            ]
          },
          "metadata": {},
          "execution_count": 308
        }
      ]
    },
    {
      "cell_type": "code",
      "source": [
        "numerical = [col for col in X_train.columns if X_train[col].dtypes != 'O']\n",
        "numerical"
      ],
      "metadata": {
        "colab": {
          "base_uri": "https://localhost:8080/"
        },
        "id": "ogtEG3MYiOXU",
        "outputId": "a71288cd-f9a7-4443-84d6-4ae477c4b3b8"
      },
      "execution_count": null,
      "outputs": [
        {
          "output_type": "execute_result",
          "data": {
            "text/plain": [
              "['Ratings(out_of_5)']"
            ]
          },
          "metadata": {},
          "execution_count": 309
        }
      ]
    },
    {
      "cell_type": "code",
      "source": [
        "X_train[categorical].isnull().mean()"
      ],
      "metadata": {
        "colab": {
          "base_uri": "https://localhost:8080/"
        },
        "id": "11qihb0jiXKU",
        "outputId": "d92bd058-c2cd-42be-85d5-6ae92718085d"
      },
      "execution_count": null,
      "outputs": [
        {
          "output_type": "execute_result",
          "data": {
            "text/plain": [
              "reviews    0.081081\n",
              "skill_1    0.175676\n",
              "skill_2    0.175676\n",
              "skill_3    0.175676\n",
              "skill_4    0.256757\n",
              "skill_5    0.405405\n",
              "dtype: float64"
            ]
          },
          "metadata": {},
          "execution_count": 310
        }
      ]
    },
    {
      "cell_type": "code",
      "source": [
        "for col in categorical:\n",
        "    if X_train[col].isnull().mean()>0:\n",
        "        print(col, (X_train[col].isnull().mean()))"
      ],
      "metadata": {
        "colab": {
          "base_uri": "https://localhost:8080/"
        },
        "id": "cMgxPJXBib8W",
        "outputId": "46db9867-b212-476b-dcaa-1aace63ff661"
      },
      "execution_count": null,
      "outputs": [
        {
          "output_type": "stream",
          "name": "stdout",
          "text": [
            "reviews 0.08108108108108109\n",
            "skill_1 0.17567567567567569\n",
            "skill_2 0.17567567567567569\n",
            "skill_3 0.17567567567567569\n",
            "skill_4 0.25675675675675674\n",
            "skill_5 0.40540540540540543\n"
          ]
        }
      ]
    },
    {
      "cell_type": "code",
      "source": [
        "for df2 in [X_train, X_test]:\n",
        "    df2['reviews'].fillna(X_train['reviews'].mode()[0], inplace=True)\n",
        "    df2['skill_1'].fillna(X_train['skill_1'].mode()[0], inplace=True)\n",
        "    df2['skill_2'].fillna(X_train['skill_2'].mode()[0], inplace=True) \n",
        "    df2['skill_3'].fillna(X_train['skill_3'].mode()[0], inplace=True)\n",
        "    df2['skill_4'].fillna(X_train['skill_4'].mode()[0], inplace=True) \n",
        "    df2['skill_5'].fillna(X_train['skill_5'].mode()[0], inplace=True)"
      ],
      "metadata": {
        "id": "5ELPl_TCihJW"
      },
      "execution_count": null,
      "outputs": []
    },
    {
      "cell_type": "code",
      "source": [
        "X_train[categorical].isnull().sum()"
      ],
      "metadata": {
        "colab": {
          "base_uri": "https://localhost:8080/"
        },
        "id": "VTMYdlebiotC",
        "outputId": "811fc48e-8a34-4156-a2d9-171eb78d84f2"
      },
      "execution_count": null,
      "outputs": [
        {
          "output_type": "execute_result",
          "data": {
            "text/plain": [
              "reviews    0\n",
              "skill_1    0\n",
              "skill_2    0\n",
              "skill_3    0\n",
              "skill_4    0\n",
              "skill_5    0\n",
              "dtype: int64"
            ]
          },
          "metadata": {},
          "execution_count": 313
        }
      ]
    },
    {
      "cell_type": "code",
      "source": [
        "X_test[categorical].isnull().sum()"
      ],
      "metadata": {
        "colab": {
          "base_uri": "https://localhost:8080/"
        },
        "id": "bnF0DOYHjKIz",
        "outputId": "dccb8c93-82cc-4290-89c9-0dc054f88a44"
      },
      "execution_count": null,
      "outputs": [
        {
          "output_type": "execute_result",
          "data": {
            "text/plain": [
              "reviews    0\n",
              "skill_1    0\n",
              "skill_2    0\n",
              "skill_3    0\n",
              "skill_4    0\n",
              "skill_5    0\n",
              "dtype: int64"
            ]
          },
          "metadata": {},
          "execution_count": 314
        }
      ]
    },
    {
      "cell_type": "code",
      "source": [
        "X_train.isnull().sum()"
      ],
      "metadata": {
        "colab": {
          "base_uri": "https://localhost:8080/"
        },
        "id": "U4Z4Cg_ajQAn",
        "outputId": "ddb667e7-d530-4bba-c2fd-57c1b52f8040"
      },
      "execution_count": null,
      "outputs": [
        {
          "output_type": "execute_result",
          "data": {
            "text/plain": [
              "Ratings(out_of_5)    0\n",
              "reviews              0\n",
              "skill_1              0\n",
              "skill_2              0\n",
              "skill_3              0\n",
              "skill_4              0\n",
              "skill_5              0\n",
              "dtype: int64"
            ]
          },
          "metadata": {},
          "execution_count": 315
        }
      ]
    },
    {
      "cell_type": "code",
      "source": [
        "X_test.isnull().sum()"
      ],
      "metadata": {
        "colab": {
          "base_uri": "https://localhost:8080/"
        },
        "id": "2_7uO2ZAjVMu",
        "outputId": "efa01551-e238-4860-861e-ff41b27951e3"
      },
      "execution_count": null,
      "outputs": [
        {
          "output_type": "execute_result",
          "data": {
            "text/plain": [
              "Ratings(out_of_5)    0\n",
              "reviews              0\n",
              "skill_1              0\n",
              "skill_2              0\n",
              "skill_3              0\n",
              "skill_4              0\n",
              "skill_5              0\n",
              "dtype: int64"
            ]
          },
          "metadata": {},
          "execution_count": 316
        }
      ]
    },
    {
      "cell_type": "code",
      "source": [
        "categorical"
      ],
      "metadata": {
        "colab": {
          "base_uri": "https://localhost:8080/"
        },
        "id": "3w3ZZZMyjXYk",
        "outputId": "43eaad18-c968-4cde-cfee-a62ea1114e88"
      },
      "execution_count": null,
      "outputs": [
        {
          "output_type": "execute_result",
          "data": {
            "text/plain": [
              "['reviews', 'skill_1', 'skill_2', 'skill_3', 'skill_4', 'skill_5']"
            ]
          },
          "metadata": {},
          "execution_count": 317
        }
      ]
    },
    {
      "cell_type": "code",
      "source": [
        "X_train[categorical].head()"
      ],
      "metadata": {
        "colab": {
          "base_uri": "https://localhost:8080/",
          "height": 206
        },
        "id": "bsvmyoAaja5z",
        "outputId": "dc1c42f2-d523-4158-f110-aa57a7c9d9fa"
      },
      "execution_count": null,
      "outputs": [
        {
          "output_type": "execute_result",
          "data": {
            "text/plain": [
              "   reviews                 skill_1               skill_2  \\\n",
              "80   5,637        Project Planning    Strategic Thinking   \n",
              "92     232        Social Listening  Social Media Bidding   \n",
              "82   8,645  Social Media Marketing             Marketing   \n",
              "59   9,662            Data Science         Deep Learning   \n",
              "27     419            Shell Script     Bash (Unix Shell)   \n",
              "\n",
              "                         skill_3                          skill_4  \\\n",
              "80               Risk Management                  Task Estimation   \n",
              "92           Customer Engagement           Social Media Analytics   \n",
              "82             Digital Marketing  Social Media Marketing Strategy   \n",
              "59  Artificial Intelligence (AI)                             Jobs   \n",
              "27                         Linux                           Pandas   \n",
              "\n",
              "                  skill_5  \n",
              "80            Procurement  \n",
              "92  Social Media Branding  \n",
              "82             Salesforce  \n",
              "59       Machine Learning  \n",
              "27             Salesforce  "
            ],
            "text/html": [
              "\n",
              "  <div id=\"df-c023a3af-5678-42c6-9339-55cd342867e6\">\n",
              "    <div class=\"colab-df-container\">\n",
              "      <div>\n",
              "<style scoped>\n",
              "    .dataframe tbody tr th:only-of-type {\n",
              "        vertical-align: middle;\n",
              "    }\n",
              "\n",
              "    .dataframe tbody tr th {\n",
              "        vertical-align: top;\n",
              "    }\n",
              "\n",
              "    .dataframe thead th {\n",
              "        text-align: right;\n",
              "    }\n",
              "</style>\n",
              "<table border=\"1\" class=\"dataframe\">\n",
              "  <thead>\n",
              "    <tr style=\"text-align: right;\">\n",
              "      <th></th>\n",
              "      <th>reviews</th>\n",
              "      <th>skill_1</th>\n",
              "      <th>skill_2</th>\n",
              "      <th>skill_3</th>\n",
              "      <th>skill_4</th>\n",
              "      <th>skill_5</th>\n",
              "    </tr>\n",
              "  </thead>\n",
              "  <tbody>\n",
              "    <tr>\n",
              "      <th>80</th>\n",
              "      <td>5,637</td>\n",
              "      <td>Project Planning</td>\n",
              "      <td>Strategic Thinking</td>\n",
              "      <td>Risk Management</td>\n",
              "      <td>Task Estimation</td>\n",
              "      <td>Procurement</td>\n",
              "    </tr>\n",
              "    <tr>\n",
              "      <th>92</th>\n",
              "      <td>232</td>\n",
              "      <td>Social Listening</td>\n",
              "      <td>Social Media Bidding</td>\n",
              "      <td>Customer Engagement</td>\n",
              "      <td>Social Media Analytics</td>\n",
              "      <td>Social Media Branding</td>\n",
              "    </tr>\n",
              "    <tr>\n",
              "      <th>82</th>\n",
              "      <td>8,645</td>\n",
              "      <td>Social Media Marketing</td>\n",
              "      <td>Marketing</td>\n",
              "      <td>Digital Marketing</td>\n",
              "      <td>Social Media Marketing Strategy</td>\n",
              "      <td>Salesforce</td>\n",
              "    </tr>\n",
              "    <tr>\n",
              "      <th>59</th>\n",
              "      <td>9,662</td>\n",
              "      <td>Data Science</td>\n",
              "      <td>Deep Learning</td>\n",
              "      <td>Artificial Intelligence (AI)</td>\n",
              "      <td>Jobs</td>\n",
              "      <td>Machine Learning</td>\n",
              "    </tr>\n",
              "    <tr>\n",
              "      <th>27</th>\n",
              "      <td>419</td>\n",
              "      <td>Shell Script</td>\n",
              "      <td>Bash (Unix Shell)</td>\n",
              "      <td>Linux</td>\n",
              "      <td>Pandas</td>\n",
              "      <td>Salesforce</td>\n",
              "    </tr>\n",
              "  </tbody>\n",
              "</table>\n",
              "</div>\n",
              "      <button class=\"colab-df-convert\" onclick=\"convertToInteractive('df-c023a3af-5678-42c6-9339-55cd342867e6')\"\n",
              "              title=\"Convert this dataframe to an interactive table.\"\n",
              "              style=\"display:none;\">\n",
              "        \n",
              "  <svg xmlns=\"http://www.w3.org/2000/svg\" height=\"24px\"viewBox=\"0 0 24 24\"\n",
              "       width=\"24px\">\n",
              "    <path d=\"M0 0h24v24H0V0z\" fill=\"none\"/>\n",
              "    <path d=\"M18.56 5.44l.94 2.06.94-2.06 2.06-.94-2.06-.94-.94-2.06-.94 2.06-2.06.94zm-11 1L8.5 8.5l.94-2.06 2.06-.94-2.06-.94L8.5 2.5l-.94 2.06-2.06.94zm10 10l.94 2.06.94-2.06 2.06-.94-2.06-.94-.94-2.06-.94 2.06-2.06.94z\"/><path d=\"M17.41 7.96l-1.37-1.37c-.4-.4-.92-.59-1.43-.59-.52 0-1.04.2-1.43.59L10.3 9.45l-7.72 7.72c-.78.78-.78 2.05 0 2.83L4 21.41c.39.39.9.59 1.41.59.51 0 1.02-.2 1.41-.59l7.78-7.78 2.81-2.81c.8-.78.8-2.07 0-2.86zM5.41 20L4 18.59l7.72-7.72 1.47 1.35L5.41 20z\"/>\n",
              "  </svg>\n",
              "      </button>\n",
              "      \n",
              "  <style>\n",
              "    .colab-df-container {\n",
              "      display:flex;\n",
              "      flex-wrap:wrap;\n",
              "      gap: 12px;\n",
              "    }\n",
              "\n",
              "    .colab-df-convert {\n",
              "      background-color: #E8F0FE;\n",
              "      border: none;\n",
              "      border-radius: 50%;\n",
              "      cursor: pointer;\n",
              "      display: none;\n",
              "      fill: #1967D2;\n",
              "      height: 32px;\n",
              "      padding: 0 0 0 0;\n",
              "      width: 32px;\n",
              "    }\n",
              "\n",
              "    .colab-df-convert:hover {\n",
              "      background-color: #E2EBFA;\n",
              "      box-shadow: 0px 1px 2px rgba(60, 64, 67, 0.3), 0px 1px 3px 1px rgba(60, 64, 67, 0.15);\n",
              "      fill: #174EA6;\n",
              "    }\n",
              "\n",
              "    [theme=dark] .colab-df-convert {\n",
              "      background-color: #3B4455;\n",
              "      fill: #D2E3FC;\n",
              "    }\n",
              "\n",
              "    [theme=dark] .colab-df-convert:hover {\n",
              "      background-color: #434B5C;\n",
              "      box-shadow: 0px 1px 3px 1px rgba(0, 0, 0, 0.15);\n",
              "      filter: drop-shadow(0px 1px 2px rgba(0, 0, 0, 0.3));\n",
              "      fill: #FFFFFF;\n",
              "    }\n",
              "  </style>\n",
              "\n",
              "      <script>\n",
              "        const buttonEl =\n",
              "          document.querySelector('#df-c023a3af-5678-42c6-9339-55cd342867e6 button.colab-df-convert');\n",
              "        buttonEl.style.display =\n",
              "          google.colab.kernel.accessAllowed ? 'block' : 'none';\n",
              "\n",
              "        async function convertToInteractive(key) {\n",
              "          const element = document.querySelector('#df-c023a3af-5678-42c6-9339-55cd342867e6');\n",
              "          const dataTable =\n",
              "            await google.colab.kernel.invokeFunction('convertToInteractive',\n",
              "                                                     [key], {});\n",
              "          if (!dataTable) return;\n",
              "\n",
              "          const docLinkHtml = 'Like what you see? Visit the ' +\n",
              "            '<a target=\"_blank\" href=https://colab.research.google.com/notebooks/data_table.ipynb>data table notebook</a>'\n",
              "            + ' to learn more about interactive tables.';\n",
              "          element.innerHTML = '';\n",
              "          dataTable['output_type'] = 'display_data';\n",
              "          await google.colab.output.renderOutput(dataTable, element);\n",
              "          const docLink = document.createElement('div');\n",
              "          docLink.innerHTML = docLinkHtml;\n",
              "          element.appendChild(docLink);\n",
              "        }\n",
              "      </script>\n",
              "    </div>\n",
              "  </div>\n",
              "  "
            ]
          },
          "metadata": {},
          "execution_count": 318
        }
      ]
    },
    {
      "cell_type": "code",
      "source": [
        "!pip install category_encoders"
      ],
      "metadata": {
        "colab": {
          "base_uri": "https://localhost:8080/"
        },
        "id": "VmCXHR2IjeD4",
        "outputId": "1b0896de-4362-4bf3-9f47-539277c92395"
      },
      "execution_count": null,
      "outputs": [
        {
          "output_type": "stream",
          "name": "stdout",
          "text": [
            "Looking in indexes: https://pypi.org/simple, https://us-python.pkg.dev/colab-wheels/public/simple/\n",
            "Requirement already satisfied: category_encoders in /usr/local/lib/python3.8/dist-packages (2.6.0)\n",
            "Requirement already satisfied: scikit-learn>=0.20.0 in /usr/local/lib/python3.8/dist-packages (from category_encoders) (1.0.2)\n",
            "Requirement already satisfied: patsy>=0.5.1 in /usr/local/lib/python3.8/dist-packages (from category_encoders) (0.5.3)\n",
            "Requirement already satisfied: scipy>=1.0.0 in /usr/local/lib/python3.8/dist-packages (from category_encoders) (1.7.3)\n",
            "Requirement already satisfied: numpy>=1.14.0 in /usr/local/lib/python3.8/dist-packages (from category_encoders) (1.21.6)\n",
            "Requirement already satisfied: statsmodels>=0.9.0 in /usr/local/lib/python3.8/dist-packages (from category_encoders) (0.12.2)\n",
            "Requirement already satisfied: pandas>=1.0.5 in /usr/local/lib/python3.8/dist-packages (from category_encoders) (1.3.5)\n",
            "Requirement already satisfied: python-dateutil>=2.7.3 in /usr/local/lib/python3.8/dist-packages (from pandas>=1.0.5->category_encoders) (2.8.2)\n",
            "Requirement already satisfied: pytz>=2017.3 in /usr/local/lib/python3.8/dist-packages (from pandas>=1.0.5->category_encoders) (2022.7.1)\n",
            "Requirement already satisfied: six in /usr/local/lib/python3.8/dist-packages (from patsy>=0.5.1->category_encoders) (1.15.0)\n",
            "Requirement already satisfied: joblib>=0.11 in /usr/local/lib/python3.8/dist-packages (from scikit-learn>=0.20.0->category_encoders) (1.2.0)\n",
            "Requirement already satisfied: threadpoolctl>=2.0.0 in /usr/local/lib/python3.8/dist-packages (from scikit-learn>=0.20.0->category_encoders) (3.1.0)\n"
          ]
        }
      ]
    },
    {
      "cell_type": "code",
      "source": [
        "import category_encoders as ce"
      ],
      "metadata": {
        "id": "Jt2Uhkk4joov"
      },
      "execution_count": null,
      "outputs": []
    },
    {
      "cell_type": "code",
      "source": [
        "encoder = ce.OneHotEncoder(cols=[ 'reviews', 'skill_1', 'skill_2', 'skill_3', 'skill_4','skill_5'])\n",
        "X_train = encoder.fit_transform(X_train)\n",
        "X_test = encoder.transform(X_test)"
      ],
      "metadata": {
        "id": "vuWQch5ijqir"
      },
      "execution_count": null,
      "outputs": []
    },
    {
      "cell_type": "code",
      "source": [
        "X_train.head()"
      ],
      "metadata": {
        "colab": {
          "base_uri": "https://localhost:8080/",
          "height": 300
        },
        "id": "IclF0xYrjuA8",
        "outputId": "94765dff-6e82-4b3a-e756-cf01472b0707"
      },
      "execution_count": null,
      "outputs": [
        {
          "output_type": "execute_result",
          "data": {
            "text/plain": [
              "    Ratings(out_of_5)  reviews_1  reviews_2  reviews_3  reviews_4  reviews_5  \\\n",
              "80                4.8          1          0          0          0          0   \n",
              "92                4.7          0          1          0          0          0   \n",
              "82                4.8          0          0          1          0          0   \n",
              "59                4.7          0          0          0          1          0   \n",
              "27                4.7          0          0          0          0          1   \n",
              "\n",
              "    reviews_6  reviews_7  reviews_8  reviews_9  ...  skill_5_27  skill_5_28  \\\n",
              "80          0          0          0          0  ...           0           0   \n",
              "92          0          0          0          0  ...           0           0   \n",
              "82          0          0          0          0  ...           0           0   \n",
              "59          0          0          0          0  ...           0           0   \n",
              "27          0          0          0          0  ...           0           0   \n",
              "\n",
              "    skill_5_29  skill_5_30  skill_5_31  skill_5_32  skill_5_33  skill_5_34  \\\n",
              "80           0           0           0           0           0           0   \n",
              "92           0           0           0           0           0           0   \n",
              "82           0           0           0           0           0           0   \n",
              "59           0           0           0           0           0           0   \n",
              "27           0           0           0           0           0           0   \n",
              "\n",
              "    skill_5_35  skill_5_36  \n",
              "80           0           0  \n",
              "92           0           0  \n",
              "82           0           0  \n",
              "59           0           0  \n",
              "27           0           0  \n",
              "\n",
              "[5 rows x 284 columns]"
            ],
            "text/html": [
              "\n",
              "  <div id=\"df-fafd845f-b32e-494d-bc9b-6ee000df0640\">\n",
              "    <div class=\"colab-df-container\">\n",
              "      <div>\n",
              "<style scoped>\n",
              "    .dataframe tbody tr th:only-of-type {\n",
              "        vertical-align: middle;\n",
              "    }\n",
              "\n",
              "    .dataframe tbody tr th {\n",
              "        vertical-align: top;\n",
              "    }\n",
              "\n",
              "    .dataframe thead th {\n",
              "        text-align: right;\n",
              "    }\n",
              "</style>\n",
              "<table border=\"1\" class=\"dataframe\">\n",
              "  <thead>\n",
              "    <tr style=\"text-align: right;\">\n",
              "      <th></th>\n",
              "      <th>Ratings(out_of_5)</th>\n",
              "      <th>reviews_1</th>\n",
              "      <th>reviews_2</th>\n",
              "      <th>reviews_3</th>\n",
              "      <th>reviews_4</th>\n",
              "      <th>reviews_5</th>\n",
              "      <th>reviews_6</th>\n",
              "      <th>reviews_7</th>\n",
              "      <th>reviews_8</th>\n",
              "      <th>reviews_9</th>\n",
              "      <th>...</th>\n",
              "      <th>skill_5_27</th>\n",
              "      <th>skill_5_28</th>\n",
              "      <th>skill_5_29</th>\n",
              "      <th>skill_5_30</th>\n",
              "      <th>skill_5_31</th>\n",
              "      <th>skill_5_32</th>\n",
              "      <th>skill_5_33</th>\n",
              "      <th>skill_5_34</th>\n",
              "      <th>skill_5_35</th>\n",
              "      <th>skill_5_36</th>\n",
              "    </tr>\n",
              "  </thead>\n",
              "  <tbody>\n",
              "    <tr>\n",
              "      <th>80</th>\n",
              "      <td>4.8</td>\n",
              "      <td>1</td>\n",
              "      <td>0</td>\n",
              "      <td>0</td>\n",
              "      <td>0</td>\n",
              "      <td>0</td>\n",
              "      <td>0</td>\n",
              "      <td>0</td>\n",
              "      <td>0</td>\n",
              "      <td>0</td>\n",
              "      <td>...</td>\n",
              "      <td>0</td>\n",
              "      <td>0</td>\n",
              "      <td>0</td>\n",
              "      <td>0</td>\n",
              "      <td>0</td>\n",
              "      <td>0</td>\n",
              "      <td>0</td>\n",
              "      <td>0</td>\n",
              "      <td>0</td>\n",
              "      <td>0</td>\n",
              "    </tr>\n",
              "    <tr>\n",
              "      <th>92</th>\n",
              "      <td>4.7</td>\n",
              "      <td>0</td>\n",
              "      <td>1</td>\n",
              "      <td>0</td>\n",
              "      <td>0</td>\n",
              "      <td>0</td>\n",
              "      <td>0</td>\n",
              "      <td>0</td>\n",
              "      <td>0</td>\n",
              "      <td>0</td>\n",
              "      <td>...</td>\n",
              "      <td>0</td>\n",
              "      <td>0</td>\n",
              "      <td>0</td>\n",
              "      <td>0</td>\n",
              "      <td>0</td>\n",
              "      <td>0</td>\n",
              "      <td>0</td>\n",
              "      <td>0</td>\n",
              "      <td>0</td>\n",
              "      <td>0</td>\n",
              "    </tr>\n",
              "    <tr>\n",
              "      <th>82</th>\n",
              "      <td>4.8</td>\n",
              "      <td>0</td>\n",
              "      <td>0</td>\n",
              "      <td>1</td>\n",
              "      <td>0</td>\n",
              "      <td>0</td>\n",
              "      <td>0</td>\n",
              "      <td>0</td>\n",
              "      <td>0</td>\n",
              "      <td>0</td>\n",
              "      <td>...</td>\n",
              "      <td>0</td>\n",
              "      <td>0</td>\n",
              "      <td>0</td>\n",
              "      <td>0</td>\n",
              "      <td>0</td>\n",
              "      <td>0</td>\n",
              "      <td>0</td>\n",
              "      <td>0</td>\n",
              "      <td>0</td>\n",
              "      <td>0</td>\n",
              "    </tr>\n",
              "    <tr>\n",
              "      <th>59</th>\n",
              "      <td>4.7</td>\n",
              "      <td>0</td>\n",
              "      <td>0</td>\n",
              "      <td>0</td>\n",
              "      <td>1</td>\n",
              "      <td>0</td>\n",
              "      <td>0</td>\n",
              "      <td>0</td>\n",
              "      <td>0</td>\n",
              "      <td>0</td>\n",
              "      <td>...</td>\n",
              "      <td>0</td>\n",
              "      <td>0</td>\n",
              "      <td>0</td>\n",
              "      <td>0</td>\n",
              "      <td>0</td>\n",
              "      <td>0</td>\n",
              "      <td>0</td>\n",
              "      <td>0</td>\n",
              "      <td>0</td>\n",
              "      <td>0</td>\n",
              "    </tr>\n",
              "    <tr>\n",
              "      <th>27</th>\n",
              "      <td>4.7</td>\n",
              "      <td>0</td>\n",
              "      <td>0</td>\n",
              "      <td>0</td>\n",
              "      <td>0</td>\n",
              "      <td>1</td>\n",
              "      <td>0</td>\n",
              "      <td>0</td>\n",
              "      <td>0</td>\n",
              "      <td>0</td>\n",
              "      <td>...</td>\n",
              "      <td>0</td>\n",
              "      <td>0</td>\n",
              "      <td>0</td>\n",
              "      <td>0</td>\n",
              "      <td>0</td>\n",
              "      <td>0</td>\n",
              "      <td>0</td>\n",
              "      <td>0</td>\n",
              "      <td>0</td>\n",
              "      <td>0</td>\n",
              "    </tr>\n",
              "  </tbody>\n",
              "</table>\n",
              "<p>5 rows × 284 columns</p>\n",
              "</div>\n",
              "      <button class=\"colab-df-convert\" onclick=\"convertToInteractive('df-fafd845f-b32e-494d-bc9b-6ee000df0640')\"\n",
              "              title=\"Convert this dataframe to an interactive table.\"\n",
              "              style=\"display:none;\">\n",
              "        \n",
              "  <svg xmlns=\"http://www.w3.org/2000/svg\" height=\"24px\"viewBox=\"0 0 24 24\"\n",
              "       width=\"24px\">\n",
              "    <path d=\"M0 0h24v24H0V0z\" fill=\"none\"/>\n",
              "    <path d=\"M18.56 5.44l.94 2.06.94-2.06 2.06-.94-2.06-.94-.94-2.06-.94 2.06-2.06.94zm-11 1L8.5 8.5l.94-2.06 2.06-.94-2.06-.94L8.5 2.5l-.94 2.06-2.06.94zm10 10l.94 2.06.94-2.06 2.06-.94-2.06-.94-.94-2.06-.94 2.06-2.06.94z\"/><path d=\"M17.41 7.96l-1.37-1.37c-.4-.4-.92-.59-1.43-.59-.52 0-1.04.2-1.43.59L10.3 9.45l-7.72 7.72c-.78.78-.78 2.05 0 2.83L4 21.41c.39.39.9.59 1.41.59.51 0 1.02-.2 1.41-.59l7.78-7.78 2.81-2.81c.8-.78.8-2.07 0-2.86zM5.41 20L4 18.59l7.72-7.72 1.47 1.35L5.41 20z\"/>\n",
              "  </svg>\n",
              "      </button>\n",
              "      \n",
              "  <style>\n",
              "    .colab-df-container {\n",
              "      display:flex;\n",
              "      flex-wrap:wrap;\n",
              "      gap: 12px;\n",
              "    }\n",
              "\n",
              "    .colab-df-convert {\n",
              "      background-color: #E8F0FE;\n",
              "      border: none;\n",
              "      border-radius: 50%;\n",
              "      cursor: pointer;\n",
              "      display: none;\n",
              "      fill: #1967D2;\n",
              "      height: 32px;\n",
              "      padding: 0 0 0 0;\n",
              "      width: 32px;\n",
              "    }\n",
              "\n",
              "    .colab-df-convert:hover {\n",
              "      background-color: #E2EBFA;\n",
              "      box-shadow: 0px 1px 2px rgba(60, 64, 67, 0.3), 0px 1px 3px 1px rgba(60, 64, 67, 0.15);\n",
              "      fill: #174EA6;\n",
              "    }\n",
              "\n",
              "    [theme=dark] .colab-df-convert {\n",
              "      background-color: #3B4455;\n",
              "      fill: #D2E3FC;\n",
              "    }\n",
              "\n",
              "    [theme=dark] .colab-df-convert:hover {\n",
              "      background-color: #434B5C;\n",
              "      box-shadow: 0px 1px 3px 1px rgba(0, 0, 0, 0.15);\n",
              "      filter: drop-shadow(0px 1px 2px rgba(0, 0, 0, 0.3));\n",
              "      fill: #FFFFFF;\n",
              "    }\n",
              "  </style>\n",
              "\n",
              "      <script>\n",
              "        const buttonEl =\n",
              "          document.querySelector('#df-fafd845f-b32e-494d-bc9b-6ee000df0640 button.colab-df-convert');\n",
              "        buttonEl.style.display =\n",
              "          google.colab.kernel.accessAllowed ? 'block' : 'none';\n",
              "\n",
              "        async function convertToInteractive(key) {\n",
              "          const element = document.querySelector('#df-fafd845f-b32e-494d-bc9b-6ee000df0640');\n",
              "          const dataTable =\n",
              "            await google.colab.kernel.invokeFunction('convertToInteractive',\n",
              "                                                     [key], {});\n",
              "          if (!dataTable) return;\n",
              "\n",
              "          const docLinkHtml = 'Like what you see? Visit the ' +\n",
              "            '<a target=\"_blank\" href=https://colab.research.google.com/notebooks/data_table.ipynb>data table notebook</a>'\n",
              "            + ' to learn more about interactive tables.';\n",
              "          element.innerHTML = '';\n",
              "          dataTable['output_type'] = 'display_data';\n",
              "          await google.colab.output.renderOutput(dataTable, element);\n",
              "          const docLink = document.createElement('div');\n",
              "          docLink.innerHTML = docLinkHtml;\n",
              "          element.appendChild(docLink);\n",
              "        }\n",
              "      </script>\n",
              "    </div>\n",
              "  </div>\n",
              "  "
            ]
          },
          "metadata": {},
          "execution_count": 322
        }
      ]
    },
    {
      "cell_type": "code",
      "source": [
        "X_train.shape"
      ],
      "metadata": {
        "colab": {
          "base_uri": "https://localhost:8080/"
        },
        "id": "5HwXxz3fktL5",
        "outputId": "796bc6e4-e152-4238-b941-f3da3becc15b"
      },
      "execution_count": null,
      "outputs": [
        {
          "output_type": "execute_result",
          "data": {
            "text/plain": [
              "(74, 284)"
            ]
          },
          "metadata": {},
          "execution_count": 323
        }
      ]
    },
    {
      "cell_type": "code",
      "source": [
        "X_test.head()"
      ],
      "metadata": {
        "colab": {
          "base_uri": "https://localhost:8080/",
          "height": 300
        },
        "id": "Jsp2E7iGkuIQ",
        "outputId": "25c0e5d5-063f-4f33-eb23-80cc0f34f7c0"
      },
      "execution_count": null,
      "outputs": [
        {
          "output_type": "execute_result",
          "data": {
            "text/plain": [
              "    Ratings(out_of_5)  reviews_1  reviews_2  reviews_3  reviews_4  reviews_5  \\\n",
              "99                4.4          0          0          0          0          0   \n",
              "10                4.8          0          0          0          0          0   \n",
              "75                4.6          0          0          0          0          0   \n",
              "2                 4.6          0          0          0          0          0   \n",
              "24                4.8          0          0          0          0          0   \n",
              "\n",
              "    reviews_6  reviews_7  reviews_8  reviews_9  ...  skill_5_27  skill_5_28  \\\n",
              "99          0          0          0          0  ...           0           0   \n",
              "10          0          0          0          0  ...           0           0   \n",
              "75          0          0          0          0  ...           0           0   \n",
              "2           0          0          0          0  ...           0           0   \n",
              "24          0          0          0          0  ...           0           0   \n",
              "\n",
              "    skill_5_29  skill_5_30  skill_5_31  skill_5_32  skill_5_33  skill_5_34  \\\n",
              "99           0           0           0           0           0           0   \n",
              "10           0           0           0           0           0           0   \n",
              "75           0           0           0           0           0           0   \n",
              "2            0           0           0           0           0           0   \n",
              "24           0           0           0           0           0           0   \n",
              "\n",
              "    skill_5_35  skill_5_36  \n",
              "99           0           0  \n",
              "10           0           0  \n",
              "75           0           0  \n",
              "2            0           0  \n",
              "24           0           0  \n",
              "\n",
              "[5 rows x 284 columns]"
            ],
            "text/html": [
              "\n",
              "  <div id=\"df-6d5cef51-493d-4dca-bfc9-3b3b6324339d\">\n",
              "    <div class=\"colab-df-container\">\n",
              "      <div>\n",
              "<style scoped>\n",
              "    .dataframe tbody tr th:only-of-type {\n",
              "        vertical-align: middle;\n",
              "    }\n",
              "\n",
              "    .dataframe tbody tr th {\n",
              "        vertical-align: top;\n",
              "    }\n",
              "\n",
              "    .dataframe thead th {\n",
              "        text-align: right;\n",
              "    }\n",
              "</style>\n",
              "<table border=\"1\" class=\"dataframe\">\n",
              "  <thead>\n",
              "    <tr style=\"text-align: right;\">\n",
              "      <th></th>\n",
              "      <th>Ratings(out_of_5)</th>\n",
              "      <th>reviews_1</th>\n",
              "      <th>reviews_2</th>\n",
              "      <th>reviews_3</th>\n",
              "      <th>reviews_4</th>\n",
              "      <th>reviews_5</th>\n",
              "      <th>reviews_6</th>\n",
              "      <th>reviews_7</th>\n",
              "      <th>reviews_8</th>\n",
              "      <th>reviews_9</th>\n",
              "      <th>...</th>\n",
              "      <th>skill_5_27</th>\n",
              "      <th>skill_5_28</th>\n",
              "      <th>skill_5_29</th>\n",
              "      <th>skill_5_30</th>\n",
              "      <th>skill_5_31</th>\n",
              "      <th>skill_5_32</th>\n",
              "      <th>skill_5_33</th>\n",
              "      <th>skill_5_34</th>\n",
              "      <th>skill_5_35</th>\n",
              "      <th>skill_5_36</th>\n",
              "    </tr>\n",
              "  </thead>\n",
              "  <tbody>\n",
              "    <tr>\n",
              "      <th>99</th>\n",
              "      <td>4.4</td>\n",
              "      <td>0</td>\n",
              "      <td>0</td>\n",
              "      <td>0</td>\n",
              "      <td>0</td>\n",
              "      <td>0</td>\n",
              "      <td>0</td>\n",
              "      <td>0</td>\n",
              "      <td>0</td>\n",
              "      <td>0</td>\n",
              "      <td>...</td>\n",
              "      <td>0</td>\n",
              "      <td>0</td>\n",
              "      <td>0</td>\n",
              "      <td>0</td>\n",
              "      <td>0</td>\n",
              "      <td>0</td>\n",
              "      <td>0</td>\n",
              "      <td>0</td>\n",
              "      <td>0</td>\n",
              "      <td>0</td>\n",
              "    </tr>\n",
              "    <tr>\n",
              "      <th>10</th>\n",
              "      <td>4.8</td>\n",
              "      <td>0</td>\n",
              "      <td>0</td>\n",
              "      <td>0</td>\n",
              "      <td>0</td>\n",
              "      <td>0</td>\n",
              "      <td>0</td>\n",
              "      <td>0</td>\n",
              "      <td>0</td>\n",
              "      <td>0</td>\n",
              "      <td>...</td>\n",
              "      <td>0</td>\n",
              "      <td>0</td>\n",
              "      <td>0</td>\n",
              "      <td>0</td>\n",
              "      <td>0</td>\n",
              "      <td>0</td>\n",
              "      <td>0</td>\n",
              "      <td>0</td>\n",
              "      <td>0</td>\n",
              "      <td>0</td>\n",
              "    </tr>\n",
              "    <tr>\n",
              "      <th>75</th>\n",
              "      <td>4.6</td>\n",
              "      <td>0</td>\n",
              "      <td>0</td>\n",
              "      <td>0</td>\n",
              "      <td>0</td>\n",
              "      <td>0</td>\n",
              "      <td>0</td>\n",
              "      <td>0</td>\n",
              "      <td>0</td>\n",
              "      <td>0</td>\n",
              "      <td>...</td>\n",
              "      <td>0</td>\n",
              "      <td>0</td>\n",
              "      <td>0</td>\n",
              "      <td>0</td>\n",
              "      <td>0</td>\n",
              "      <td>0</td>\n",
              "      <td>0</td>\n",
              "      <td>0</td>\n",
              "      <td>0</td>\n",
              "      <td>0</td>\n",
              "    </tr>\n",
              "    <tr>\n",
              "      <th>2</th>\n",
              "      <td>4.6</td>\n",
              "      <td>0</td>\n",
              "      <td>0</td>\n",
              "      <td>0</td>\n",
              "      <td>0</td>\n",
              "      <td>0</td>\n",
              "      <td>0</td>\n",
              "      <td>0</td>\n",
              "      <td>0</td>\n",
              "      <td>0</td>\n",
              "      <td>...</td>\n",
              "      <td>0</td>\n",
              "      <td>0</td>\n",
              "      <td>0</td>\n",
              "      <td>0</td>\n",
              "      <td>0</td>\n",
              "      <td>0</td>\n",
              "      <td>0</td>\n",
              "      <td>0</td>\n",
              "      <td>0</td>\n",
              "      <td>0</td>\n",
              "    </tr>\n",
              "    <tr>\n",
              "      <th>24</th>\n",
              "      <td>4.8</td>\n",
              "      <td>0</td>\n",
              "      <td>0</td>\n",
              "      <td>0</td>\n",
              "      <td>0</td>\n",
              "      <td>0</td>\n",
              "      <td>0</td>\n",
              "      <td>0</td>\n",
              "      <td>0</td>\n",
              "      <td>0</td>\n",
              "      <td>...</td>\n",
              "      <td>0</td>\n",
              "      <td>0</td>\n",
              "      <td>0</td>\n",
              "      <td>0</td>\n",
              "      <td>0</td>\n",
              "      <td>0</td>\n",
              "      <td>0</td>\n",
              "      <td>0</td>\n",
              "      <td>0</td>\n",
              "      <td>0</td>\n",
              "    </tr>\n",
              "  </tbody>\n",
              "</table>\n",
              "<p>5 rows × 284 columns</p>\n",
              "</div>\n",
              "      <button class=\"colab-df-convert\" onclick=\"convertToInteractive('df-6d5cef51-493d-4dca-bfc9-3b3b6324339d')\"\n",
              "              title=\"Convert this dataframe to an interactive table.\"\n",
              "              style=\"display:none;\">\n",
              "        \n",
              "  <svg xmlns=\"http://www.w3.org/2000/svg\" height=\"24px\"viewBox=\"0 0 24 24\"\n",
              "       width=\"24px\">\n",
              "    <path d=\"M0 0h24v24H0V0z\" fill=\"none\"/>\n",
              "    <path d=\"M18.56 5.44l.94 2.06.94-2.06 2.06-.94-2.06-.94-.94-2.06-.94 2.06-2.06.94zm-11 1L8.5 8.5l.94-2.06 2.06-.94-2.06-.94L8.5 2.5l-.94 2.06-2.06.94zm10 10l.94 2.06.94-2.06 2.06-.94-2.06-.94-.94-2.06-.94 2.06-2.06.94z\"/><path d=\"M17.41 7.96l-1.37-1.37c-.4-.4-.92-.59-1.43-.59-.52 0-1.04.2-1.43.59L10.3 9.45l-7.72 7.72c-.78.78-.78 2.05 0 2.83L4 21.41c.39.39.9.59 1.41.59.51 0 1.02-.2 1.41-.59l7.78-7.78 2.81-2.81c.8-.78.8-2.07 0-2.86zM5.41 20L4 18.59l7.72-7.72 1.47 1.35L5.41 20z\"/>\n",
              "  </svg>\n",
              "      </button>\n",
              "      \n",
              "  <style>\n",
              "    .colab-df-container {\n",
              "      display:flex;\n",
              "      flex-wrap:wrap;\n",
              "      gap: 12px;\n",
              "    }\n",
              "\n",
              "    .colab-df-convert {\n",
              "      background-color: #E8F0FE;\n",
              "      border: none;\n",
              "      border-radius: 50%;\n",
              "      cursor: pointer;\n",
              "      display: none;\n",
              "      fill: #1967D2;\n",
              "      height: 32px;\n",
              "      padding: 0 0 0 0;\n",
              "      width: 32px;\n",
              "    }\n",
              "\n",
              "    .colab-df-convert:hover {\n",
              "      background-color: #E2EBFA;\n",
              "      box-shadow: 0px 1px 2px rgba(60, 64, 67, 0.3), 0px 1px 3px 1px rgba(60, 64, 67, 0.15);\n",
              "      fill: #174EA6;\n",
              "    }\n",
              "\n",
              "    [theme=dark] .colab-df-convert {\n",
              "      background-color: #3B4455;\n",
              "      fill: #D2E3FC;\n",
              "    }\n",
              "\n",
              "    [theme=dark] .colab-df-convert:hover {\n",
              "      background-color: #434B5C;\n",
              "      box-shadow: 0px 1px 3px 1px rgba(0, 0, 0, 0.15);\n",
              "      filter: drop-shadow(0px 1px 2px rgba(0, 0, 0, 0.3));\n",
              "      fill: #FFFFFF;\n",
              "    }\n",
              "  </style>\n",
              "\n",
              "      <script>\n",
              "        const buttonEl =\n",
              "          document.querySelector('#df-6d5cef51-493d-4dca-bfc9-3b3b6324339d button.colab-df-convert');\n",
              "        buttonEl.style.display =\n",
              "          google.colab.kernel.accessAllowed ? 'block' : 'none';\n",
              "\n",
              "        async function convertToInteractive(key) {\n",
              "          const element = document.querySelector('#df-6d5cef51-493d-4dca-bfc9-3b3b6324339d');\n",
              "          const dataTable =\n",
              "            await google.colab.kernel.invokeFunction('convertToInteractive',\n",
              "                                                     [key], {});\n",
              "          if (!dataTable) return;\n",
              "\n",
              "          const docLinkHtml = 'Like what you see? Visit the ' +\n",
              "            '<a target=\"_blank\" href=https://colab.research.google.com/notebooks/data_table.ipynb>data table notebook</a>'\n",
              "            + ' to learn more about interactive tables.';\n",
              "          element.innerHTML = '';\n",
              "          dataTable['output_type'] = 'display_data';\n",
              "          await google.colab.output.renderOutput(dataTable, element);\n",
              "          const docLink = document.createElement('div');\n",
              "          docLink.innerHTML = docLinkHtml;\n",
              "          element.appendChild(docLink);\n",
              "        }\n",
              "      </script>\n",
              "    </div>\n",
              "  </div>\n",
              "  "
            ]
          },
          "metadata": {},
          "execution_count": 324
        }
      ]
    },
    {
      "cell_type": "code",
      "source": [
        "X_test.shape"
      ],
      "metadata": {
        "colab": {
          "base_uri": "https://localhost:8080/"
        },
        "id": "qFdLdZyMk1iZ",
        "outputId": "02e581f9-1c21-4590-accd-8ce366227911"
      },
      "execution_count": null,
      "outputs": [
        {
          "output_type": "execute_result",
          "data": {
            "text/plain": [
              "(32, 284)"
            ]
          },
          "metadata": {},
          "execution_count": 325
        }
      ]
    },
    {
      "cell_type": "code",
      "source": [
        "cols = X_train.columns"
      ],
      "metadata": {
        "id": "wffGyPLyk3_f"
      },
      "execution_count": null,
      "outputs": []
    },
    {
      "cell_type": "code",
      "source": [
        "from sklearn.preprocessing import RobustScaler\n",
        "scaler = RobustScaler()\n",
        "X_train = scaler.fit_transform(X_train)\n",
        "X_test = scaler.transform(X_test)"
      ],
      "metadata": {
        "id": "A9akpVVUk7jo"
      },
      "execution_count": null,
      "outputs": []
    },
    {
      "cell_type": "code",
      "source": [
        "X_train = pd.DataFrame(X_train, columns=[cols])"
      ],
      "metadata": {
        "id": "dSPkla0mlDqI"
      },
      "execution_count": null,
      "outputs": []
    },
    {
      "cell_type": "code",
      "source": [
        "X_test = pd.DataFrame(X_test, columns=[cols])"
      ],
      "metadata": {
        "id": "yn0jgaQ7lEK5"
      },
      "execution_count": null,
      "outputs": []
    },
    {
      "cell_type": "code",
      "source": [
        "X_train.head()"
      ],
      "metadata": {
        "colab": {
          "base_uri": "https://localhost:8080/",
          "height": 300
        },
        "id": "sm8dcTMFlHZI",
        "outputId": "831e4ee0-e47f-4971-a198-4e3d372ea20c"
      },
      "execution_count": null,
      "outputs": [
        {
          "output_type": "execute_result",
          "data": {
            "text/plain": [
              "  Ratings(out_of_5) reviews_1 reviews_2 reviews_3 reviews_4 reviews_5  \\\n",
              "0               0.5       1.0       0.0       0.0       0.0       0.0   \n",
              "1               0.0       0.0       1.0       0.0       0.0       0.0   \n",
              "2               0.5       0.0       0.0       1.0       0.0       0.0   \n",
              "3               0.0       0.0       0.0       0.0       1.0       0.0   \n",
              "4               0.0       0.0       0.0       0.0       0.0       1.0   \n",
              "\n",
              "  reviews_6 reviews_7 reviews_8 reviews_9  ... skill_5_27 skill_5_28  \\\n",
              "0       0.0       0.0       0.0       0.0  ...        0.0        0.0   \n",
              "1       0.0       0.0       0.0       0.0  ...        0.0        0.0   \n",
              "2       0.0       0.0       0.0       0.0  ...        0.0        0.0   \n",
              "3       0.0       0.0       0.0       0.0  ...        0.0        0.0   \n",
              "4       0.0       0.0       0.0       0.0  ...        0.0        0.0   \n",
              "\n",
              "  skill_5_29 skill_5_30 skill_5_31 skill_5_32 skill_5_33 skill_5_34  \\\n",
              "0        0.0        0.0        0.0        0.0        0.0        0.0   \n",
              "1        0.0        0.0        0.0        0.0        0.0        0.0   \n",
              "2        0.0        0.0        0.0        0.0        0.0        0.0   \n",
              "3        0.0        0.0        0.0        0.0        0.0        0.0   \n",
              "4        0.0        0.0        0.0        0.0        0.0        0.0   \n",
              "\n",
              "  skill_5_35 skill_5_36  \n",
              "0        0.0        0.0  \n",
              "1        0.0        0.0  \n",
              "2        0.0        0.0  \n",
              "3        0.0        0.0  \n",
              "4        0.0        0.0  \n",
              "\n",
              "[5 rows x 284 columns]"
            ],
            "text/html": [
              "\n",
              "  <div id=\"df-b52438ec-0218-4392-b367-248ef9650eb8\">\n",
              "    <div class=\"colab-df-container\">\n",
              "      <div>\n",
              "<style scoped>\n",
              "    .dataframe tbody tr th:only-of-type {\n",
              "        vertical-align: middle;\n",
              "    }\n",
              "\n",
              "    .dataframe tbody tr th {\n",
              "        vertical-align: top;\n",
              "    }\n",
              "\n",
              "    .dataframe thead tr th {\n",
              "        text-align: left;\n",
              "    }\n",
              "</style>\n",
              "<table border=\"1\" class=\"dataframe\">\n",
              "  <thead>\n",
              "    <tr>\n",
              "      <th></th>\n",
              "      <th>Ratings(out_of_5)</th>\n",
              "      <th>reviews_1</th>\n",
              "      <th>reviews_2</th>\n",
              "      <th>reviews_3</th>\n",
              "      <th>reviews_4</th>\n",
              "      <th>reviews_5</th>\n",
              "      <th>reviews_6</th>\n",
              "      <th>reviews_7</th>\n",
              "      <th>reviews_8</th>\n",
              "      <th>reviews_9</th>\n",
              "      <th>...</th>\n",
              "      <th>skill_5_27</th>\n",
              "      <th>skill_5_28</th>\n",
              "      <th>skill_5_29</th>\n",
              "      <th>skill_5_30</th>\n",
              "      <th>skill_5_31</th>\n",
              "      <th>skill_5_32</th>\n",
              "      <th>skill_5_33</th>\n",
              "      <th>skill_5_34</th>\n",
              "      <th>skill_5_35</th>\n",
              "      <th>skill_5_36</th>\n",
              "    </tr>\n",
              "  </thead>\n",
              "  <tbody>\n",
              "    <tr>\n",
              "      <th>0</th>\n",
              "      <td>0.5</td>\n",
              "      <td>1.0</td>\n",
              "      <td>0.0</td>\n",
              "      <td>0.0</td>\n",
              "      <td>0.0</td>\n",
              "      <td>0.0</td>\n",
              "      <td>0.0</td>\n",
              "      <td>0.0</td>\n",
              "      <td>0.0</td>\n",
              "      <td>0.0</td>\n",
              "      <td>...</td>\n",
              "      <td>0.0</td>\n",
              "      <td>0.0</td>\n",
              "      <td>0.0</td>\n",
              "      <td>0.0</td>\n",
              "      <td>0.0</td>\n",
              "      <td>0.0</td>\n",
              "      <td>0.0</td>\n",
              "      <td>0.0</td>\n",
              "      <td>0.0</td>\n",
              "      <td>0.0</td>\n",
              "    </tr>\n",
              "    <tr>\n",
              "      <th>1</th>\n",
              "      <td>0.0</td>\n",
              "      <td>0.0</td>\n",
              "      <td>1.0</td>\n",
              "      <td>0.0</td>\n",
              "      <td>0.0</td>\n",
              "      <td>0.0</td>\n",
              "      <td>0.0</td>\n",
              "      <td>0.0</td>\n",
              "      <td>0.0</td>\n",
              "      <td>0.0</td>\n",
              "      <td>...</td>\n",
              "      <td>0.0</td>\n",
              "      <td>0.0</td>\n",
              "      <td>0.0</td>\n",
              "      <td>0.0</td>\n",
              "      <td>0.0</td>\n",
              "      <td>0.0</td>\n",
              "      <td>0.0</td>\n",
              "      <td>0.0</td>\n",
              "      <td>0.0</td>\n",
              "      <td>0.0</td>\n",
              "    </tr>\n",
              "    <tr>\n",
              "      <th>2</th>\n",
              "      <td>0.5</td>\n",
              "      <td>0.0</td>\n",
              "      <td>0.0</td>\n",
              "      <td>1.0</td>\n",
              "      <td>0.0</td>\n",
              "      <td>0.0</td>\n",
              "      <td>0.0</td>\n",
              "      <td>0.0</td>\n",
              "      <td>0.0</td>\n",
              "      <td>0.0</td>\n",
              "      <td>...</td>\n",
              "      <td>0.0</td>\n",
              "      <td>0.0</td>\n",
              "      <td>0.0</td>\n",
              "      <td>0.0</td>\n",
              "      <td>0.0</td>\n",
              "      <td>0.0</td>\n",
              "      <td>0.0</td>\n",
              "      <td>0.0</td>\n",
              "      <td>0.0</td>\n",
              "      <td>0.0</td>\n",
              "    </tr>\n",
              "    <tr>\n",
              "      <th>3</th>\n",
              "      <td>0.0</td>\n",
              "      <td>0.0</td>\n",
              "      <td>0.0</td>\n",
              "      <td>0.0</td>\n",
              "      <td>1.0</td>\n",
              "      <td>0.0</td>\n",
              "      <td>0.0</td>\n",
              "      <td>0.0</td>\n",
              "      <td>0.0</td>\n",
              "      <td>0.0</td>\n",
              "      <td>...</td>\n",
              "      <td>0.0</td>\n",
              "      <td>0.0</td>\n",
              "      <td>0.0</td>\n",
              "      <td>0.0</td>\n",
              "      <td>0.0</td>\n",
              "      <td>0.0</td>\n",
              "      <td>0.0</td>\n",
              "      <td>0.0</td>\n",
              "      <td>0.0</td>\n",
              "      <td>0.0</td>\n",
              "    </tr>\n",
              "    <tr>\n",
              "      <th>4</th>\n",
              "      <td>0.0</td>\n",
              "      <td>0.0</td>\n",
              "      <td>0.0</td>\n",
              "      <td>0.0</td>\n",
              "      <td>0.0</td>\n",
              "      <td>1.0</td>\n",
              "      <td>0.0</td>\n",
              "      <td>0.0</td>\n",
              "      <td>0.0</td>\n",
              "      <td>0.0</td>\n",
              "      <td>...</td>\n",
              "      <td>0.0</td>\n",
              "      <td>0.0</td>\n",
              "      <td>0.0</td>\n",
              "      <td>0.0</td>\n",
              "      <td>0.0</td>\n",
              "      <td>0.0</td>\n",
              "      <td>0.0</td>\n",
              "      <td>0.0</td>\n",
              "      <td>0.0</td>\n",
              "      <td>0.0</td>\n",
              "    </tr>\n",
              "  </tbody>\n",
              "</table>\n",
              "<p>5 rows × 284 columns</p>\n",
              "</div>\n",
              "      <button class=\"colab-df-convert\" onclick=\"convertToInteractive('df-b52438ec-0218-4392-b367-248ef9650eb8')\"\n",
              "              title=\"Convert this dataframe to an interactive table.\"\n",
              "              style=\"display:none;\">\n",
              "        \n",
              "  <svg xmlns=\"http://www.w3.org/2000/svg\" height=\"24px\"viewBox=\"0 0 24 24\"\n",
              "       width=\"24px\">\n",
              "    <path d=\"M0 0h24v24H0V0z\" fill=\"none\"/>\n",
              "    <path d=\"M18.56 5.44l.94 2.06.94-2.06 2.06-.94-2.06-.94-.94-2.06-.94 2.06-2.06.94zm-11 1L8.5 8.5l.94-2.06 2.06-.94-2.06-.94L8.5 2.5l-.94 2.06-2.06.94zm10 10l.94 2.06.94-2.06 2.06-.94-2.06-.94-.94-2.06-.94 2.06-2.06.94z\"/><path d=\"M17.41 7.96l-1.37-1.37c-.4-.4-.92-.59-1.43-.59-.52 0-1.04.2-1.43.59L10.3 9.45l-7.72 7.72c-.78.78-.78 2.05 0 2.83L4 21.41c.39.39.9.59 1.41.59.51 0 1.02-.2 1.41-.59l7.78-7.78 2.81-2.81c.8-.78.8-2.07 0-2.86zM5.41 20L4 18.59l7.72-7.72 1.47 1.35L5.41 20z\"/>\n",
              "  </svg>\n",
              "      </button>\n",
              "      \n",
              "  <style>\n",
              "    .colab-df-container {\n",
              "      display:flex;\n",
              "      flex-wrap:wrap;\n",
              "      gap: 12px;\n",
              "    }\n",
              "\n",
              "    .colab-df-convert {\n",
              "      background-color: #E8F0FE;\n",
              "      border: none;\n",
              "      border-radius: 50%;\n",
              "      cursor: pointer;\n",
              "      display: none;\n",
              "      fill: #1967D2;\n",
              "      height: 32px;\n",
              "      padding: 0 0 0 0;\n",
              "      width: 32px;\n",
              "    }\n",
              "\n",
              "    .colab-df-convert:hover {\n",
              "      background-color: #E2EBFA;\n",
              "      box-shadow: 0px 1px 2px rgba(60, 64, 67, 0.3), 0px 1px 3px 1px rgba(60, 64, 67, 0.15);\n",
              "      fill: #174EA6;\n",
              "    }\n",
              "\n",
              "    [theme=dark] .colab-df-convert {\n",
              "      background-color: #3B4455;\n",
              "      fill: #D2E3FC;\n",
              "    }\n",
              "\n",
              "    [theme=dark] .colab-df-convert:hover {\n",
              "      background-color: #434B5C;\n",
              "      box-shadow: 0px 1px 3px 1px rgba(0, 0, 0, 0.15);\n",
              "      filter: drop-shadow(0px 1px 2px rgba(0, 0, 0, 0.3));\n",
              "      fill: #FFFFFF;\n",
              "    }\n",
              "  </style>\n",
              "\n",
              "      <script>\n",
              "        const buttonEl =\n",
              "          document.querySelector('#df-b52438ec-0218-4392-b367-248ef9650eb8 button.colab-df-convert');\n",
              "        buttonEl.style.display =\n",
              "          google.colab.kernel.accessAllowed ? 'block' : 'none';\n",
              "\n",
              "        async function convertToInteractive(key) {\n",
              "          const element = document.querySelector('#df-b52438ec-0218-4392-b367-248ef9650eb8');\n",
              "          const dataTable =\n",
              "            await google.colab.kernel.invokeFunction('convertToInteractive',\n",
              "                                                     [key], {});\n",
              "          if (!dataTable) return;\n",
              "\n",
              "          const docLinkHtml = 'Like what you see? Visit the ' +\n",
              "            '<a target=\"_blank\" href=https://colab.research.google.com/notebooks/data_table.ipynb>data table notebook</a>'\n",
              "            + ' to learn more about interactive tables.';\n",
              "          element.innerHTML = '';\n",
              "          dataTable['output_type'] = 'display_data';\n",
              "          await google.colab.output.renderOutput(dataTable, element);\n",
              "          const docLink = document.createElement('div');\n",
              "          docLink.innerHTML = docLinkHtml;\n",
              "          element.appendChild(docLink);\n",
              "        }\n",
              "      </script>\n",
              "    </div>\n",
              "  </div>\n",
              "  "
            ]
          },
          "metadata": {},
          "execution_count": 330
        }
      ]
    },
    {
      "cell_type": "code",
      "source": [
        "import pandas as pd\n",
        "y_test = pd.DataFrame(y_test)\n",
        "mean_y = y_test.mean()\n",
        "y_test.fillna(mean_y, inplace=True)"
      ],
      "metadata": {
        "id": "k3CeCo_GrbDD"
      },
      "execution_count": null,
      "outputs": []
    },
    {
      "cell_type": "code",
      "source": [
        "from sklearn.naive_bayes import GaussianNB\n",
        "gnb = GaussianNB()\n",
        "gnb.fit(X_train, y_train)"
      ],
      "metadata": {
        "colab": {
          "base_uri": "https://localhost:8080/"
        },
        "id": "R9hwmiQrnkut",
        "outputId": "66806bbd-de97-4a8d-be86-0cfbe663a051"
      },
      "execution_count": null,
      "outputs": [
        {
          "output_type": "execute_result",
          "data": {
            "text/plain": [
              "GaussianNB()"
            ]
          },
          "metadata": {},
          "execution_count": 332
        }
      ]
    },
    {
      "cell_type": "code",
      "source": [
        "y_pred = gnb.predict(X_test)\n",
        "y_pred"
      ],
      "metadata": {
        "colab": {
          "base_uri": "https://localhost:8080/"
        },
        "id": "2q2FzuUBt4ti",
        "outputId": "2f9c7c51-f782-4fcf-a22f-8d68c3d2e406"
      },
      "execution_count": null,
      "outputs": [
        {
          "output_type": "execute_result",
          "data": {
            "text/plain": [
              "array(['Turn Ethical Frameworks into Actionable Steps',\n",
              "       'What is Data Science?',\n",
              "       'Turn Ethical Frameworks into Actionable Steps',\n",
              "       'Turn Ethical Frameworks into Actionable Steps',\n",
              "       'What is Data Science?',\n",
              "       'Turn Ethical Frameworks into Actionable Steps',\n",
              "       'Turn Ethical Frameworks into Actionable Steps',\n",
              "       'What is Data Science?', 'What is Data Science?',\n",
              "       'Turn Ethical Frameworks into Actionable Steps',\n",
              "       'Turn Ethical Frameworks into Actionable Steps',\n",
              "       'What is Data Science?',\n",
              "       'Turn Ethical Frameworks into Actionable Steps',\n",
              "       'Turn Ethical Frameworks into Actionable Steps',\n",
              "       'Turn Ethical Frameworks into Actionable Steps',\n",
              "       'Turn Ethical Frameworks into Actionable Steps',\n",
              "       'What is Data Science?',\n",
              "       'Turn Ethical Frameworks into Actionable Steps',\n",
              "       'Turn Ethical Frameworks into Actionable Steps',\n",
              "       'Turn Ethical Frameworks into Actionable Steps',\n",
              "       'Turn Ethical Frameworks into Actionable Steps',\n",
              "       'What is Data Science?',\n",
              "       'Turn Ethical Frameworks into Actionable Steps',\n",
              "       'Turn Ethical Frameworks into Actionable Steps',\n",
              "       'What is Data Science?',\n",
              "       'Turn Ethical Frameworks into Actionable Steps',\n",
              "       'Turn Ethical Frameworks into Actionable Steps',\n",
              "       'What is Data Science?', 'What is Data Science?',\n",
              "       'Turn Ethical Frameworks into Actionable Steps',\n",
              "       'Turn Ethical Frameworks into Actionable Steps',\n",
              "       'Turn Ethical Frameworks into Actionable Steps'], dtype='<U45')"
            ]
          },
          "metadata": {},
          "execution_count": 333
        }
      ]
    },
    {
      "cell_type": "code",
      "source": [
        "from sklearn.metrics import accuracy_score\n",
        "print('Model accuracy score: {0:0.4f}'. format(accuracy_score(y_test, y_pred)))"
      ],
      "metadata": {
        "colab": {
          "base_uri": "https://localhost:8080/"
        },
        "id": "ksAy9ziMu_cV",
        "outputId": "db6b9b27-ba89-4a3e-bfcc-a7f92f029372"
      },
      "execution_count": null,
      "outputs": [
        {
          "output_type": "stream",
          "name": "stdout",
          "text": [
            "Model accuracy score: 0.8438\n"
          ]
        }
      ]
    },
    {
      "cell_type": "code",
      "source": [
        "y_pred_train = gnb.predict(X_train)\n",
        "y_pred_train"
      ],
      "metadata": {
        "colab": {
          "base_uri": "https://localhost:8080/"
        },
        "id": "zC-Oi4WPvVIF",
        "outputId": "069bad12-d729-4e14-940a-7f82226a2429"
      },
      "execution_count": null,
      "outputs": [
        {
          "output_type": "execute_result",
          "data": {
            "text/plain": [
              "array(['Turn Ethical Frameworks into Actionable Steps',\n",
              "       'Turn Ethical Frameworks into Actionable Steps',\n",
              "       'Turn Ethical Frameworks into Actionable Steps',\n",
              "       'Turn Ethical Frameworks into Actionable Steps',\n",
              "       'What is Data Science?', 'What is Data Science?',\n",
              "       'Turn Ethical Frameworks into Actionable Steps',\n",
              "       'What is Data Science?',\n",
              "       'Turn Ethical Frameworks into Actionable Steps',\n",
              "       'Turn Ethical Frameworks into Actionable Steps',\n",
              "       'What is Data Science?', 'What is Data Science?',\n",
              "       'Turn Ethical Frameworks into Actionable Steps',\n",
              "       'What is Data Science?', 'What is Data Science?',\n",
              "       'What is Data Science?',\n",
              "       'Turn Ethical Frameworks into Actionable Steps',\n",
              "       'Turn Ethical Frameworks into Actionable Steps',\n",
              "       'What is Data Science?', 'What is Data Science?',\n",
              "       'What is Data Science?',\n",
              "       'Turn Ethical Frameworks into Actionable Steps',\n",
              "       'Turn Ethical Frameworks into Actionable Steps',\n",
              "       'Turn Ethical Frameworks into Actionable Steps',\n",
              "       'What is Data Science?', 'What is Data Science?',\n",
              "       'What is Data Science?',\n",
              "       'Turn Ethical Frameworks into Actionable Steps',\n",
              "       'What is Data Science?', 'What is Data Science?',\n",
              "       'Turn Ethical Frameworks into Actionable Steps',\n",
              "       'What is Data Science?', 'What is Data Science?',\n",
              "       'What is Data Science?',\n",
              "       'Turn Ethical Frameworks into Actionable Steps',\n",
              "       'Turn Ethical Frameworks into Actionable Steps',\n",
              "       'Turn Ethical Frameworks into Actionable Steps',\n",
              "       'Turn Ethical Frameworks into Actionable Steps',\n",
              "       'What is Data Science?',\n",
              "       'Turn Ethical Frameworks into Actionable Steps',\n",
              "       'What is Data Science?',\n",
              "       'Turn Ethical Frameworks into Actionable Steps',\n",
              "       'What is Data Science?', 'What is Data Science?',\n",
              "       'What is Data Science?',\n",
              "       'Turn Ethical Frameworks into Actionable Steps',\n",
              "       'Turn Ethical Frameworks into Actionable Steps',\n",
              "       'Turn Ethical Frameworks into Actionable Steps',\n",
              "       'What is Data Science?',\n",
              "       'Turn Ethical Frameworks into Actionable Steps',\n",
              "       'Turn Ethical Frameworks into Actionable Steps',\n",
              "       'Turn Ethical Frameworks into Actionable Steps',\n",
              "       'What is Data Science?', 'What is Data Science?',\n",
              "       'Turn Ethical Frameworks into Actionable Steps',\n",
              "       'What is Data Science?',\n",
              "       'Turn Ethical Frameworks into Actionable Steps',\n",
              "       'What is Data Science?',\n",
              "       'Turn Ethical Frameworks into Actionable Steps',\n",
              "       'Turn Ethical Frameworks into Actionable Steps',\n",
              "       'What is Data Science?',\n",
              "       'Turn Ethical Frameworks into Actionable Steps',\n",
              "       'Turn Ethical Frameworks into Actionable Steps',\n",
              "       'Turn Ethical Frameworks into Actionable Steps',\n",
              "       'Turn Ethical Frameworks into Actionable Steps',\n",
              "       'What is Data Science?', 'What is Data Science?',\n",
              "       'Turn Ethical Frameworks into Actionable Steps',\n",
              "       'What is Data Science?',\n",
              "       'Turn Ethical Frameworks into Actionable Steps',\n",
              "       'Turn Ethical Frameworks into Actionable Steps',\n",
              "       'Turn Ethical Frameworks into Actionable Steps',\n",
              "       'What is Data Science?', 'What is Data Science?'], dtype='<U45')"
            ]
          },
          "metadata": {},
          "execution_count": 335
        }
      ]
    },
    {
      "cell_type": "code",
      "source": [
        "print('Training-set accuracy score: {0:0.4f}'. format(accuracy_score(y_train, y_pred_train)))"
      ],
      "metadata": {
        "colab": {
          "base_uri": "https://localhost:8080/"
        },
        "id": "O8LKYNenvXFt",
        "outputId": "b9fc3900-367b-4f64-81c0-75a46cc3d7e0"
      },
      "execution_count": null,
      "outputs": [
        {
          "output_type": "stream",
          "name": "stdout",
          "text": [
            "Training-set accuracy score: 0.9730\n"
          ]
        }
      ]
    },
    {
      "cell_type": "code",
      "source": [
        "print('Training set score: {:.4f}'.format(gnb.score(X_train, y_train)))\n",
        "print('Test set score: {:.4f}'.format(gnb.score(X_test, y_test)))"
      ],
      "metadata": {
        "colab": {
          "base_uri": "https://localhost:8080/"
        },
        "id": "e7G2whALvbLl",
        "outputId": "e0b165ee-0b52-4494-d773-f47cabf00f98"
      },
      "execution_count": null,
      "outputs": [
        {
          "output_type": "stream",
          "name": "stdout",
          "text": [
            "Training set score: 0.9730\n",
            "Test set score: 0.8438\n"
          ]
        }
      ]
    },
    {
      "cell_type": "code",
      "source": [
        "y_test.value_counts()"
      ],
      "metadata": {
        "colab": {
          "base_uri": "https://localhost:8080/"
        },
        "id": "1Y338LhEvgCO",
        "outputId": "0705a601-7a6e-4982-cc91-3aed5baced87"
      },
      "execution_count": null,
      "outputs": [
        {
          "output_type": "execute_result",
          "data": {
            "text/plain": [
              "Course_Name                                  \n",
              "Turn Ethical Frameworks into Actionable Steps    17\n",
              "What is Data Science?                            15\n",
              "dtype: int64"
            ]
          },
          "metadata": {},
          "execution_count": 338
        }
      ]
    },
    {
      "cell_type": "code",
      "source": [
        "null_accuracy = (7407/(7407+2362))\n",
        "print('Null accuracy score: {0:0.4f}'. format(null_accuracy))"
      ],
      "metadata": {
        "colab": {
          "base_uri": "https://localhost:8080/"
        },
        "id": "9G1SDWMgvj97",
        "outputId": "ba4414c2-6256-49c1-9d35-08c9407b9bd3"
      },
      "execution_count": null,
      "outputs": [
        {
          "output_type": "stream",
          "name": "stdout",
          "text": [
            "Null accuracy score: 0.7582\n"
          ]
        }
      ]
    },
    {
      "cell_type": "code",
      "source": [
        "from sklearn.metrics import confusion_matrix\n",
        "cm = confusion_matrix(y_test, y_pred)\n",
        "print('Confusion matrix\\n\\n', cm)\n",
        "print('\\nTrue Positives(TP) = ', cm[0,0])\n",
        "print('\\nTrue Negatives(TN) = ', cm[1,1])\n",
        "print('\\nFalse Positives(FP) = ', cm[0,1])\n",
        "print('\\nFalse Negatives(FN) = ', cm[1,0])"
      ],
      "metadata": {
        "colab": {
          "base_uri": "https://localhost:8080/"
        },
        "id": "uwdNohUXwt4H",
        "outputId": "8cac860c-8f4b-479c-92ec-31d3e7b2a884"
      },
      "execution_count": null,
      "outputs": [
        {
          "output_type": "stream",
          "name": "stdout",
          "text": [
            "Confusion matrix\n",
            "\n",
            " [[17  0]\n",
            " [ 5 10]]\n",
            "\n",
            "True Positives(TP) =  17\n",
            "\n",
            "True Negatives(TN) =  10\n",
            "\n",
            "False Positives(FP) =  0\n",
            "\n",
            "False Negatives(FN) =  5\n"
          ]
        }
      ]
    },
    {
      "cell_type": "code",
      "source": [
        "cm_matrix = pd.DataFrame(data=cm, columns=['Actual Positive:1', 'Actual Negative:0'],  index=['Predict Positive:1', 'Predict Negative:0'])\n",
        "sns.heatmap(cm_matrix, annot=True, fmt='d', cmap='YlGnBu')"
      ],
      "metadata": {
        "colab": {
          "base_uri": "https://localhost:8080/",
          "height": 282
        },
        "id": "AiOZem-S0PR5",
        "outputId": "83a5993a-41fa-4aa6-f780-c605991dd2dc"
      },
      "execution_count": null,
      "outputs": [
        {
          "output_type": "execute_result",
          "data": {
            "text/plain": [
              "<matplotlib.axes._subplots.AxesSubplot at 0x7f432cad39a0>"
            ]
          },
          "metadata": {},
          "execution_count": 343
        },
        {
          "output_type": "display_data",
          "data": {
            "text/plain": [
              "<Figure size 432x288 with 2 Axes>"
            ],
            "image/png": "[encoded data removed]"
          },
          "metadata": {
            "needs_background": "light"
          }
        }
      ]
    },
    {
      "cell_type": "code",
      "source": [
        "from sklearn.metrics import classification_report\n",
        "print(classification_report(y_test, y_pred))"
      ],
      "metadata": {
        "colab": {
          "base_uri": "https://localhost:8080/"
        },
        "id": "iZX-CZ1b0kmX",
        "outputId": "939b26c6-e61b-40d7-b005-9ccce88203b1"
      },
      "execution_count": null,
      "outputs": [
        {
          "output_type": "stream",
          "name": "stdout",
          "text": [
            "                                               precision    recall  f1-score   support\n",
            "\n",
            "Turn Ethical Frameworks into Actionable Steps       0.77      1.00      0.87        17\n",
            "                        What is Data Science?       1.00      0.67      0.80        15\n",
            "\n",
            "                                     accuracy                           0.84        32\n",
            "                                    macro avg       0.89      0.83      0.84        32\n",
            "                                 weighted avg       0.88      0.84      0.84        32\n",
            "\n"
          ]
        }
      ]
    },
    {
      "cell_type": "code",
      "source": [
        "TP = cm[0,0]\n",
        "TN = cm[1,1]\n",
        "FP = cm[0,1]\n",
        "FN = cm[1,0]"
      ],
      "metadata": {
        "id": "L2idPY3B0plj"
      },
      "execution_count": null,
      "outputs": []
    },
    {
      "cell_type": "code",
      "source": [
        "classification_accuracy = (TP + TN) / float(TP + TN + FP + FN)\n",
        "print('Classification accuracy : {0:0.4f}'.format(classification_accuracy))"
      ],
      "metadata": {
        "colab": {
          "base_uri": "https://localhost:8080/"
        },
        "id": "TnoI3AKV0v-x",
        "outputId": "41df0dcd-0d16-42b9-e02b-d12bd1ae7b2a"
      },
      "execution_count": null,
      "outputs": [
        {
          "output_type": "stream",
          "name": "stdout",
          "text": [
            "Classification accuracy : 0.8438\n"
          ]
        }
      ]
    },
    {
      "cell_type": "code",
      "source": [
        "classification_error = (FP + FN) / float(TP + TN + FP + FN)\n",
        "print('Classification error : {0:0.4f}'.format(classification_error))"
      ],
      "metadata": {
        "colab": {
          "base_uri": "https://localhost:8080/"
        },
        "id": "xIQsa6BI00ir",
        "outputId": "05a54d43-d076-4b1a-bd7b-cabd37f2c174"
      },
      "execution_count": null,
      "outputs": [
        {
          "output_type": "stream",
          "name": "stdout",
          "text": [
            "Classification error : 0.1562\n"
          ]
        }
      ]
    },
    {
      "cell_type": "code",
      "source": [
        "precision = TP / float(TP + FP)\n",
        "print('Precision : {0:0.4f}'.format(precision))"
      ],
      "metadata": {
        "colab": {
          "base_uri": "https://localhost:8080/"
        },
        "id": "JvJ39VNw06OM",
        "outputId": "f3de0754-93eb-4545-ae20-adba4c262d91"
      },
      "execution_count": null,
      "outputs": [
        {
          "output_type": "stream",
          "name": "stdout",
          "text": [
            "Precision : 1.0000\n"
          ]
        }
      ]
    },
    {
      "cell_type": "code",
      "source": [
        "recall = TP / float(TP + FN)\n",
        "print('Recall or Sensitivity : {0:0.4f}'.format(recall))"
      ],
      "metadata": {
        "colab": {
          "base_uri": "https://localhost:8080/"
        },
        "id": "7bgKXewP0_9C",
        "outputId": "20e05365-704d-4438-bda0-b22c9ddca085"
      },
      "execution_count": null,
      "outputs": [
        {
          "output_type": "stream",
          "name": "stdout",
          "text": [
            "Recall or Sensitivity : 0.7727\n"
          ]
        }
      ]
    },
    {
      "cell_type": "code",
      "source": [
        "true_positive_rate = TP / float(TP + FN)\n",
        "print('True Positive Rate : {0:0.4f}'.format(true_positive_rate))"
      ],
      "metadata": {
        "colab": {
          "base_uri": "https://localhost:8080/"
        },
        "id": "xWpYQY2m1DlQ",
        "outputId": "91ca56d7-d30c-4524-c7d4-d89e21967122"
      },
      "execution_count": null,
      "outputs": [
        {
          "output_type": "stream",
          "name": "stdout",
          "text": [
            "True Positive Rate : 0.7727\n"
          ]
        }
      ]
    },
    {
      "cell_type": "code",
      "source": [
        "false_positive_rate = FP / float(FP + TN)\n",
        "print('False Positive Rate : {0:0.4f}'.format(false_positive_rate))"
      ],
      "metadata": {
        "colab": {
          "base_uri": "https://localhost:8080/"
        },
        "id": "oD3-erxn1TBS",
        "outputId": "04f1efda-eb0a-4cf2-ec87-a4631b616c35"
      },
      "execution_count": null,
      "outputs": [
        {
          "output_type": "stream",
          "name": "stdout",
          "text": [
            "False Positive Rate : 0.0000\n"
          ]
        }
      ]
    },
    {
      "cell_type": "code",
      "source": [
        "specificity = TN / (TN + FP)\n",
        "print('Specificity : {0:0.4f}'.format(specificity))"
      ],
      "metadata": {
        "colab": {
          "base_uri": "https://localhost:8080/"
        },
        "id": "MStzgUlG1fMI",
        "outputId": "18a88a4b-5a94-4539-ca57-0550abe4fd2a"
      },
      "execution_count": null,
      "outputs": [
        {
          "output_type": "stream",
          "name": "stdout",
          "text": [
            "Specificity : 1.0000\n"
          ]
        }
      ]
    },
    {
      "cell_type": "code",
      "source": [
        "y_pred_prob = gnb.predict_proba(X_test)[0:10]\n",
        "y_pred_prob"
      ],
      "metadata": {
        "colab": {
          "base_uri": "https://localhost:8080/"
        },
        "id": "qJLRHRIT1lz5",
        "outputId": "90f65f9c-fbf0-4fb3-87bb-b8054faa74ab"
      },
      "execution_count": null,
      "outputs": [
        {
          "output_type": "execute_result",
          "data": {
            "text/plain": [
              "array([[1.00000000e+00, 1.22888705e-47],\n",
              "       [0.00000000e+00, 1.00000000e+00],\n",
              "       [1.00000000e+00, 9.98575768e-48],\n",
              "       [1.00000000e+00, 5.56672912e-48],\n",
              "       [0.00000000e+00, 1.00000000e+00],\n",
              "       [1.00000000e+00, 8.78465898e-48],\n",
              "       [1.00000000e+00, 0.00000000e+00],\n",
              "       [0.00000000e+00, 1.00000000e+00],\n",
              "       [0.00000000e+00, 1.00000000e+00],\n",
              "       [1.00000000e+00, 0.00000000e+00]])"
            ]
          },
          "metadata": {},
          "execution_count": 353
        }
      ]
    },
    {
      "cell_type": "code",
      "source": [
        "y_pred_prob_df = pd.DataFrame(data=y_pred_prob, columns=['<17','=>17'])\n",
        "y_pred_prob_df"
      ],
      "metadata": {
        "colab": {
          "base_uri": "https://localhost:8080/",
          "height": 363
        },
        "id": "SIs85R5Z1rn0",
        "outputId": "230554c7-b294-45ad-d5c4-150af9bd7f5d"
      },
      "execution_count": null,
      "outputs": [
        {
          "output_type": "execute_result",
          "data": {
            "text/plain": [
              "   <17          =>17\n",
              "0  1.0  1.228887e-47\n",
              "1  0.0  1.000000e+00\n",
              "2  1.0  9.985758e-48\n",
              "3  1.0  5.566729e-48\n",
              "4  0.0  1.000000e+00\n",
              "5  1.0  8.784659e-48\n",
              "6  1.0  0.000000e+00\n",
              "7  0.0  1.000000e+00\n",
              "8  0.0  1.000000e+00\n",
              "9  1.0  0.000000e+00"
            ],
            "text/html": [
              "\n",
              "  <div id=\"df-3e2e14ea-0019-477f-bc13-b17c97978e72\">\n",
              "    <div class=\"colab-df-container\">\n",
              "      <div>\n",
              "<style scoped>\n",
              "    .dataframe tbody tr th:only-of-type {\n",
              "        vertical-align: middle;\n",
              "    }\n",
              "\n",
              "    .dataframe tbody tr th {\n",
              "        vertical-align: top;\n",
              "    }\n",
              "\n",
              "    .dataframe thead th {\n",
              "        text-align: right;\n",
              "    }\n",
              "</style>\n",
              "<table border=\"1\" class=\"dataframe\">\n",
              "  <thead>\n",
              "    <tr style=\"text-align: right;\">\n",
              "      <th></th>\n",
              "      <th>&lt;17</th>\n",
              "      <th>=&gt;17</th>\n",
              "    </tr>\n",
              "  </thead>\n",
              "  <tbody>\n",
              "    <tr>\n",
              "      <th>0</th>\n",
              "      <td>1.0</td>\n",
              "      <td>1.228887e-47</td>\n",
              "    </tr>\n",
              "    <tr>\n",
              "      <th>1</th>\n",
              "      <td>0.0</td>\n",
              "      <td>1.000000e+00</td>\n",
              "    </tr>\n",
              "    <tr>\n",
              "      <th>2</th>\n",
              "      <td>1.0</td>\n",
              "      <td>9.985758e-48</td>\n",
              "    </tr>\n",
              "    <tr>\n",
              "      <th>3</th>\n",
              "      <td>1.0</td>\n",
              "      <td>5.566729e-48</td>\n",
              "    </tr>\n",
              "    <tr>\n",
              "      <th>4</th>\n",
              "      <td>0.0</td>\n",
              "      <td>1.000000e+00</td>\n",
              "    </tr>\n",
              "    <tr>\n",
              "      <th>5</th>\n",
              "      <td>1.0</td>\n",
              "      <td>8.784659e-48</td>\n",
              "    </tr>\n",
              "    <tr>\n",
              "      <th>6</th>\n",
              "      <td>1.0</td>\n",
              "      <td>0.000000e+00</td>\n",
              "    </tr>\n",
              "    <tr>\n",
              "      <th>7</th>\n",
              "      <td>0.0</td>\n",
              "      <td>1.000000e+00</td>\n",
              "    </tr>\n",
              "    <tr>\n",
              "      <th>8</th>\n",
              "      <td>0.0</td>\n",
              "      <td>1.000000e+00</td>\n",
              "    </tr>\n",
              "    <tr>\n",
              "      <th>9</th>\n",
              "      <td>1.0</td>\n",
              "      <td>0.000000e+00</td>\n",
              "    </tr>\n",
              "  </tbody>\n",
              "</table>\n",
              "</div>\n",
              "      <button class=\"colab-df-convert\" onclick=\"convertToInteractive('df-3e2e14ea-0019-477f-bc13-b17c97978e72')\"\n",
              "              title=\"Convert this dataframe to an interactive table.\"\n",
              "              style=\"display:none;\">\n",
              "        \n",
              "  <svg xmlns=\"http://www.w3.org/2000/svg\" height=\"24px\"viewBox=\"0 0 24 24\"\n",
              "       width=\"24px\">\n",
              "    <path d=\"M0 0h24v24H0V0z\" fill=\"none\"/>\n",
              "    <path d=\"M18.56 5.44l.94 2.06.94-2.06 2.06-.94-2.06-.94-.94-2.06-.94 2.06-2.06.94zm-11 1L8.5 8.5l.94-2.06 2.06-.94-2.06-.94L8.5 2.5l-.94 2.06-2.06.94zm10 10l.94 2.06.94-2.06 2.06-.94-2.06-.94-.94-2.06-.94 2.06-2.06.94z\"/><path d=\"M17.41 7.96l-1.37-1.37c-.4-.4-.92-.59-1.43-.59-.52 0-1.04.2-1.43.59L10.3 9.45l-7.72 7.72c-.78.78-.78 2.05 0 2.83L4 21.41c.39.39.9.59 1.41.59.51 0 1.02-.2 1.41-.59l7.78-7.78 2.81-2.81c.8-.78.8-2.07 0-2.86zM5.41 20L4 18.59l7.72-7.72 1.47 1.35L5.41 20z\"/>\n",
              "  </svg>\n",
              "      </button>\n",
              "      \n",
              "  <style>\n",
              "    .colab-df-container {\n",
              "      display:flex;\n",
              "      flex-wrap:wrap;\n",
              "      gap: 12px;\n",
              "    }\n",
              "\n",
              "    .colab-df-convert {\n",
              "      background-color: #E8F0FE;\n",
              "      border: none;\n",
              "      border-radius: 50%;\n",
              "      cursor: pointer;\n",
              "      display: none;\n",
              "      fill: #1967D2;\n",
              "      height: 32px;\n",
              "      padding: 0 0 0 0;\n",
              "      width: 32px;\n",
              "    }\n",
              "\n",
              "    .colab-df-convert:hover {\n",
              "      background-color: #E2EBFA;\n",
              "      box-shadow: 0px 1px 2px rgba(60, 64, 67, 0.3), 0px 1px 3px 1px rgba(60, 64, 67, 0.15);\n",
              "      fill: #174EA6;\n",
              "    }\n",
              "\n",
              "    [theme=dark] .colab-df-convert {\n",
              "      background-color: #3B4455;\n",
              "      fill: #D2E3FC;\n",
              "    }\n",
              "\n",
              "    [theme=dark] .colab-df-convert:hover {\n",
              "      background-color: #434B5C;\n",
              "      box-shadow: 0px 1px 3px 1px rgba(0, 0, 0, 0.15);\n",
              "      filter: drop-shadow(0px 1px 2px rgba(0, 0, 0, 0.3));\n",
              "      fill: #FFFFFF;\n",
              "    }\n",
              "  </style>\n",
              "\n",
              "      <script>\n",
              "        const buttonEl =\n",
              "          document.querySelector('#df-3e2e14ea-0019-477f-bc13-b17c97978e72 button.colab-df-convert');\n",
              "        buttonEl.style.display =\n",
              "          google.colab.kernel.accessAllowed ? 'block' : 'none';\n",
              "\n",
              "        async function convertToInteractive(key) {\n",
              "          const element = document.querySelector('#df-3e2e14ea-0019-477f-bc13-b17c97978e72');\n",
              "          const dataTable =\n",
              "            await google.colab.kernel.invokeFunction('convertToInteractive',\n",
              "                                                     [key], {});\n",
              "          if (!dataTable) return;\n",
              "\n",
              "          const docLinkHtml = 'Like what you see? Visit the ' +\n",
              "            '<a target=\"_blank\" href=https://colab.research.google.com/notebooks/data_table.ipynb>data table notebook</a>'\n",
              "            + ' to learn more about interactive tables.';\n",
              "          element.innerHTML = '';\n",
              "          dataTable['output_type'] = 'display_data';\n",
              "          await google.colab.output.renderOutput(dataTable, element);\n",
              "          const docLink = document.createElement('div');\n",
              "          docLink.innerHTML = docLinkHtml;\n",
              "          element.appendChild(docLink);\n",
              "        }\n",
              "      </script>\n",
              "    </div>\n",
              "  </div>\n",
              "  "
            ]
          },
          "metadata": {},
          "execution_count": 367
        }
      ]
    },
    {
      "cell_type": "code",
      "source": [
        "gnb.predict_proba(X_test)[0:10, 1]"
      ],
      "metadata": {
        "colab": {
          "base_uri": "https://localhost:8080/"
        },
        "id": "bXXBaCaZ1v0u",
        "outputId": "9483e726-b323-4bd7-bc93-16e79e2b2577"
      },
      "execution_count": null,
      "outputs": [
        {
          "output_type": "execute_result",
          "data": {
            "text/plain": [
              "array([1.22888705e-47, 1.00000000e+00, 9.98575768e-48, 5.56672912e-48,\n",
              "       1.00000000e+00, 8.78465898e-48, 0.00000000e+00, 1.00000000e+00,\n",
              "       1.00000000e+00, 0.00000000e+00])"
            ]
          },
          "metadata": {},
          "execution_count": 368
        }
      ]
    },
    {
      "cell_type": "code",
      "source": [
        "y_pred1 = gnb.predict_proba(X_test)[:, 1]"
      ],
      "metadata": {
        "id": "PeI4e6WX146b"
      },
      "execution_count": null,
      "outputs": []
    },
    {
      "cell_type": "code",
      "source": [
        "plt.rcParams['font.size'] = 12\n",
        "plt.hist(y_pred1, bins = 10)\n",
        "plt.title('Histogram of predicted probabilities')\n",
        "plt.xlim(0,1)\n",
        "plt.xlabel('Predicted probabilities')\n",
        "plt.ylabel('Frequency')"
      ],
      "metadata": {
        "id": "NobQVeyz19_g"
      },
      "execution_count": null,
      "outputs": []
    },
    {
      "cell_type": "code",
      "source": [
        "from sklearn.metrics import roc_curve\n",
        "fpr, tpr, thresholds = roc_curve(y_test, y_pred1, pos_label = '')\n",
        "plt.figure(figsize=(6,4))\n",
        "plt.plot(fpr, tpr, linewidth=2)\n",
        "plt.plot([0,1], [0,1], 'k--' )\n",
        "plt.rcParams['font.size'] = 12\n",
        "plt.title('ROC curve for Gaussian Naive Bayes Classifier')\n",
        "plt.xlabel('False Positive Rate (1 - Specificity)')\n",
        "plt.ylabel('True Positive Rate (Sensitivity)')\n",
        "plt.show()"
      ],
      "metadata": {
        "colab": {
          "base_uri": "https://localhost:8080/",
          "height": 302
        },
        "id": "nR9gGBFz2VO_",
        "outputId": "3144783f-a7b2-4b1c-d52d-24130fa795c1"
      },
      "execution_count": null,
      "outputs": [
        {
          "output_type": "display_data",
          "data": {
            "text/plain": [
              "<Figure size 432x288 with 1 Axes>"
            ],
            "image/png": "[encoded data removed]"
          },
          "metadata": {
            "needs_background": "light"
          }
        }
      ]
    },
    {
      "cell_type": "code",
      "source": [
        "from sklearn.metrics import roc_auc_score\n",
        "ROC_AUC = roc_auc_score(y_test, y_pred1)\n",
        "print('ROC AUC : {:.4f}'.format(ROC_AUC))"
      ],
      "metadata": {
        "colab": {
          "base_uri": "https://localhost:8080/"
        },
        "id": "nKVdRq7q4586",
        "outputId": "5c88dd24-a530-4044-a0af-3a52bd78dc94"
      },
      "execution_count": null,
      "outputs": [
        {
          "output_type": "stream",
          "name": "stdout",
          "text": [
            "ROC AUC : 0.8961\n"
          ]
        }
      ]
    },
    {
      "cell_type": "code",
      "source": [
        "from sklearn.model_selection import cross_val_score\n",
        "Cross_validated_ROC_AUC = cross_val_score(gnb, X_train, y_train, cv=5, scoring='roc_auc').mean()\n",
        "print('Cross validated ROC AUC : {:.4f}'.format(Cross_validated_ROC_AUC))"
      ],
      "metadata": {
        "colab": {
          "base_uri": "https://localhost:8080/"
        },
        "id": "_NJGMe994-vr",
        "outputId": "1f95da3c-2adb-4665-cf1b-556d3cbf7493"
      },
      "execution_count": null,
      "outputs": [
        {
          "output_type": "stream",
          "name": "stdout",
          "text": [
            "Cross validated ROC AUC : 0.7304\n"
          ]
        }
      ]
    },
    {
      "cell_type": "code",
      "source": [
        "from sklearn.model_selection import cross_val_score\n",
        "scores = cross_val_score(gnb, X_train, y_train, cv = 10, scoring='accuracy')\n",
        "print('Cross-validation scores:{}'.format(scores))"
      ],
      "metadata": {
        "colab": {
          "base_uri": "https://localhost:8080/"
        },
        "id": "s5khjtig5ERU",
        "outputId": "919a0cfe-4020-4112-8d6b-62943221b528"
      },
      "execution_count": null,
      "outputs": [
        {
          "output_type": "stream",
          "name": "stdout",
          "text": [
            "Cross-validation scores:[0.5        0.5        0.5        0.375      0.71428571 0.57142857\n",
            " 0.71428571 0.71428571 0.57142857 0.71428571]\n"
          ]
        }
      ]
    },
    {
      "cell_type": "code",
      "source": [
        "print('Average cross-validation score: {:.4f}'.format(scores.mean()))"
      ],
      "metadata": {
        "colab": {
          "base_uri": "https://localhost:8080/"
        },
        "id": "rK6OZxLp5KYp",
        "outputId": "32eb41b3-caa1-4424-dcc0-e8466351f74f"
      },
      "execution_count": null,
      "outputs": [
        {
          "output_type": "stream",
          "name": "stdout",
          "text": [
            "Average cross-validation score: 0.5875\n"
          ]
        }
      ]
    }
  ]
}